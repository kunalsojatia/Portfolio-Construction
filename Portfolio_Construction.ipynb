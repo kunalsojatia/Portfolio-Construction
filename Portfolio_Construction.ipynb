{
  "cells": [
    {
      "cell_type": "code",
      "execution_count": 118,
      "id": "8cbcf491",
      "metadata": {
        "id": "8cbcf491"
      },
      "outputs": [],
      "source": [
        "import numpy as np\n",
        "import pandas as pd\n",
        "from scipy.stats import norm"
      ]
    },
    {
      "cell_type": "code",
      "source": [
        "from google.colab import drive\n",
        "drive.mount('/gdrive')\n",
        "import sys\n",
        "sys.path.insert(0,'/gdrive/MyDrive/portfolio')"
      ],
      "metadata": {
        "colab": {
          "base_uri": "https://localhost:8080/"
        },
        "id": "MeuwjCLvWUzD",
        "outputId": "155a9b8d-3de4-4520-a322-4ad30322f658"
      },
      "id": "MeuwjCLvWUzD",
      "execution_count": 119,
      "outputs": [
        {
          "output_type": "stream",
          "name": "stdout",
          "text": [
            "Drive already mounted at /gdrive; to attempt to forcibly remount, call drive.mount(\"/gdrive\", force_remount=True).\n"
          ]
        }
      ]
    },
    {
      "cell_type": "markdown",
      "id": "8e887145",
      "metadata": {
        "id": "8e887145"
      },
      "source": [
        "## Calculation of Returns"
      ]
    },
    {
      "cell_type": "code",
      "execution_count": 120,
      "id": "351627cf",
      "metadata": {
        "colab": {
          "base_uri": "https://localhost:8080/",
          "height": 192
        },
        "id": "351627cf",
        "outputId": "46b7b0b2-ee53-4602-e0a8-0d61dffac056"
      },
      "outputs": [
        {
          "output_type": "stream",
          "name": "stdout",
          "text": [
            "Returns: [ 0.02413793 -0.02244669]\n"
          ]
        },
        {
          "output_type": "execute_result",
          "data": {
            "text/html": [
              "\n",
              "  <div id=\"df-04d1cdc5-c667-4f5e-abf8-a3510ec0bc6a\">\n",
              "    <div class=\"colab-df-container\">\n",
              "      <div>\n",
              "<style scoped>\n",
              "    .dataframe tbody tr th:only-of-type {\n",
              "        vertical-align: middle;\n",
              "    }\n",
              "\n",
              "    .dataframe tbody tr th {\n",
              "        vertical-align: top;\n",
              "    }\n",
              "\n",
              "    .dataframe thead th {\n",
              "        text-align: right;\n",
              "    }\n",
              "</style>\n",
              "<table border=\"1\" class=\"dataframe\">\n",
              "  <thead>\n",
              "    <tr style=\"text-align: right;\">\n",
              "      <th></th>\n",
              "      <th>Stock A</th>\n",
              "      <th>Stock B</th>\n",
              "    </tr>\n",
              "  </thead>\n",
              "  <tbody>\n",
              "    <tr>\n",
              "      <th>1</th>\n",
              "      <td>0.024138</td>\n",
              "      <td>0.031895</td>\n",
              "    </tr>\n",
              "    <tr>\n",
              "      <th>2</th>\n",
              "      <td>-0.022447</td>\n",
              "      <td>-0.026364</td>\n",
              "    </tr>\n",
              "    <tr>\n",
              "      <th>3</th>\n",
              "      <td>-0.032147</td>\n",
              "      <td>0.082166</td>\n",
              "    </tr>\n",
              "    <tr>\n",
              "      <th>4</th>\n",
              "      <td>0.035587</td>\n",
              "      <td>0.044866</td>\n",
              "    </tr>\n",
              "  </tbody>\n",
              "</table>\n",
              "</div>\n",
              "      <button class=\"colab-df-convert\" onclick=\"convertToInteractive('df-04d1cdc5-c667-4f5e-abf8-a3510ec0bc6a')\"\n",
              "              title=\"Convert this dataframe to an interactive table.\"\n",
              "              style=\"display:none;\">\n",
              "        \n",
              "  <svg xmlns=\"http://www.w3.org/2000/svg\" height=\"24px\"viewBox=\"0 0 24 24\"\n",
              "       width=\"24px\">\n",
              "    <path d=\"M0 0h24v24H0V0z\" fill=\"none\"/>\n",
              "    <path d=\"M18.56 5.44l.94 2.06.94-2.06 2.06-.94-2.06-.94-.94-2.06-.94 2.06-2.06.94zm-11 1L8.5 8.5l.94-2.06 2.06-.94-2.06-.94L8.5 2.5l-.94 2.06-2.06.94zm10 10l.94 2.06.94-2.06 2.06-.94-2.06-.94-.94-2.06-.94 2.06-2.06.94z\"/><path d=\"M17.41 7.96l-1.37-1.37c-.4-.4-.92-.59-1.43-.59-.52 0-1.04.2-1.43.59L10.3 9.45l-7.72 7.72c-.78.78-.78 2.05 0 2.83L4 21.41c.39.39.9.59 1.41.59.51 0 1.02-.2 1.41-.59l7.78-7.78 2.81-2.81c.8-.78.8-2.07 0-2.86zM5.41 20L4 18.59l7.72-7.72 1.47 1.35L5.41 20z\"/>\n",
              "  </svg>\n",
              "      </button>\n",
              "      \n",
              "  <style>\n",
              "    .colab-df-container {\n",
              "      display:flex;\n",
              "      flex-wrap:wrap;\n",
              "      gap: 12px;\n",
              "    }\n",
              "\n",
              "    .colab-df-convert {\n",
              "      background-color: #E8F0FE;\n",
              "      border: none;\n",
              "      border-radius: 50%;\n",
              "      cursor: pointer;\n",
              "      display: none;\n",
              "      fill: #1967D2;\n",
              "      height: 32px;\n",
              "      padding: 0 0 0 0;\n",
              "      width: 32px;\n",
              "    }\n",
              "\n",
              "    .colab-df-convert:hover {\n",
              "      background-color: #E2EBFA;\n",
              "      box-shadow: 0px 1px 2px rgba(60, 64, 67, 0.3), 0px 1px 3px 1px rgba(60, 64, 67, 0.15);\n",
              "      fill: #174EA6;\n",
              "    }\n",
              "\n",
              "    [theme=dark] .colab-df-convert {\n",
              "      background-color: #3B4455;\n",
              "      fill: #D2E3FC;\n",
              "    }\n",
              "\n",
              "    [theme=dark] .colab-df-convert:hover {\n",
              "      background-color: #434B5C;\n",
              "      box-shadow: 0px 1px 3px 1px rgba(0, 0, 0, 0.15);\n",
              "      filter: drop-shadow(0px 1px 2px rgba(0, 0, 0, 0.3));\n",
              "      fill: #FFFFFF;\n",
              "    }\n",
              "  </style>\n",
              "\n",
              "      <script>\n",
              "        const buttonEl =\n",
              "          document.querySelector('#df-04d1cdc5-c667-4f5e-abf8-a3510ec0bc6a button.colab-df-convert');\n",
              "        buttonEl.style.display =\n",
              "          google.colab.kernel.accessAllowed ? 'block' : 'none';\n",
              "\n",
              "        async function convertToInteractive(key) {\n",
              "          const element = document.querySelector('#df-04d1cdc5-c667-4f5e-abf8-a3510ec0bc6a');\n",
              "          const dataTable =\n",
              "            await google.colab.kernel.invokeFunction('convertToInteractive',\n",
              "                                                     [key], {});\n",
              "          if (!dataTable) return;\n",
              "\n",
              "          const docLinkHtml = 'Like what you see? Visit the ' +\n",
              "            '<a target=\"_blank\" href=https://colab.research.google.com/notebooks/data_table.ipynb>data table notebook</a>'\n",
              "            + ' to learn more about interactive tables.';\n",
              "          element.innerHTML = '';\n",
              "          dataTable['output_type'] = 'display_data';\n",
              "          await google.colab.output.renderOutput(dataTable, element);\n",
              "          const docLink = document.createElement('div');\n",
              "          docLink.innerHTML = docLinkHtml;\n",
              "          element.appendChild(docLink);\n",
              "        }\n",
              "      </script>\n",
              "    </div>\n",
              "  </div>\n",
              "  "
            ],
            "text/plain": [
              "    Stock A   Stock B\n",
              "1  0.024138  0.031895\n",
              "2 -0.022447 -0.026364\n",
              "3 -0.032147  0.082166\n",
              "4  0.035587  0.044866"
            ]
          },
          "metadata": {},
          "execution_count": 120
        }
      ],
      "source": [
        "\"\"\"\n",
        "We cannot perform mathematical operations on list, so converted the list first into array.\n",
        "prices_a = [8.70, 8.91, 8.71]\n",
        "\"\"\"\n",
        "prices_a = np.array([8.70, 8.91, 8.71])\n",
        "\n",
        "# To calculate (8.91/8.700)-1 AND (8.71/8.91)-1\n",
        "print(\"Returns: \" + str(prices_a[1:]/prices_a[:-1] - 1))\n",
        "\n",
        "#================= METHOD 2 using Pandas DataFrame\n",
        "\n",
        "prices = pd.DataFrame(\n",
        "                {\"Stock A\": [8.70, 8.91, 8.71, 8.43, 8.73],\n",
        "                 \"Stock B\": [10.66, 11.00, 10.71, 11.59, 12.11]\n",
        "                })\n",
        "prices\n",
        "\n",
        "\"\"\"\n",
        "prices.iloc[1:]/prices.iloc[:-1] - 1\n",
        "If we use above method, it would give bizarre results since it will automatically align \n",
        "the values from both lists using index\n",
        "-------------\n",
        "To perform positional divisions, we extract out the values in numpy as long as one of them do not have index, \n",
        "it won't have any index to align \n",
        "\n",
        "prices.iloc[1:].values returns values as array of lists\n",
        "array([[ 8.91, 11.  ],\n",
        "       [ 8.71, 10.71],\n",
        "       [ 8.43, 11.59],\n",
        "       [ 8.73, 12.11]])\n",
        "       \n",
        "and just iloc returns a dataframe with integer based indexing\n",
        "Note that .iloc returns a Pandas Series when one row is selected,and a Pandas DataFrame when multiple rows are selected, \n",
        "or if any column in full is selected.\n",
        "\"\"\"\n",
        "\n",
        "prices.iloc[1:].values/prices.iloc[:-1] - 1\n",
        "# OR\n",
        "prices.iloc[1:]/prices.iloc[:-1].values - 1\n",
        "\n",
        "\n",
        "#====================== METHOD 3 using shift function\n",
        "prices/prices.shift(1) - 1\n",
        "\n",
        "#====================== METHOD 4 using percentage change function\n",
        "returns = prices.pct_change()\n",
        "returns = returns.dropna()\n",
        "returns"
      ]
    },
    {
      "cell_type": "code",
      "execution_count": 121,
      "id": "9dbd82cd",
      "metadata": {
        "colab": {
          "base_uri": "https://localhost:8080/",
          "height": 527
        },
        "id": "9dbd82cd",
        "outputId": "5c8261c2-487e-4e0b-fd10-e4fb65df53ca"
      },
      "outputs": [
        {
          "output_type": "execute_result",
          "data": {
            "text/plain": [
              "<matplotlib.axes._subplots.AxesSubplot at 0x7f2892cc3890>"
            ]
          },
          "metadata": {},
          "execution_count": 121
        },
        {
          "output_type": "display_data",
          "data": {
            "image/png": "[encoded data removed]",
            "text/plain": [
              "<Figure size 432x288 with 1 Axes>"
            ]
          },
          "metadata": {
            "needs_background": "light"
          }
        },
        {
          "output_type": "display_data",
          "data": {
            "image/png": "[encoded data removed]",
            "text/plain": [
              "<Figure size 432x288 with 1 Axes>"
            ]
          },
          "metadata": {
            "needs_background": "light"
          }
        }
      ],
      "source": [
        "#Plot returns for Stock A and Stock B\n",
        "\n",
        "prices.plot()\n",
        "returns.plot.bar()"
      ]
    },
    {
      "cell_type": "code",
      "execution_count": 122,
      "id": "0485bbd0",
      "metadata": {
        "colab": {
          "base_uri": "https://localhost:8080/"
        },
        "id": "0485bbd0",
        "outputId": "d94025bc-e521-4c56-f51b-239f8de8867b"
      },
      "outputs": [
        {
          "output_type": "execute_result",
          "data": {
            "text/plain": [
              "Stock A     0.34\n",
              "Stock B    13.60\n",
              "dtype: float64"
            ]
          },
          "metadata": {},
          "execution_count": 122
        }
      ],
      "source": [
        "#Total Returns\n",
        "\"\"\"\n",
        "To calculate the total returns for each Stock, we need to multiply (1+R) for each year - 1\n",
        "\"\"\"\n",
        "\n",
        "total_return = np.prod(returns+1)-1\n",
        "\n",
        "#============= METHOD 2\n",
        "\n",
        "total_return = (((returns+1).prod()-1)*100).round(2)\n",
        "total_return"
      ]
    },
    {
      "cell_type": "code",
      "execution_count": 123,
      "id": "30eadbf6",
      "metadata": {
        "colab": {
          "base_uri": "https://localhost:8080/"
        },
        "id": "30eadbf6",
        "outputId": "b5a498b2-1f57-4878-f075-ff67ec98276c"
      },
      "outputs": [
        {
          "output_type": "execute_result",
          "data": {
            "text/plain": [
              "0.12682503013196977"
            ]
          },
          "metadata": {},
          "execution_count": 123
        }
      ],
      "source": [
        "#Annualization\n",
        "\"\"\"\n",
        "Step 1: Annualized Returns = (1 + Return) ^ (1 / N) - 1 \n",
        "                where, N = number of periods measured\n",
        "                \n",
        "Step 2: To annualize a number, multiply the shorter-term rate of return by the number of periods that make up one year. \n",
        "        One month's return would be multiplied by 12 months while one quarter's return by four quarters.\n",
        "             \n",
        "             => Annualized Returns = (1 + Return) ^ (12 / N) - 1 for 12 months\n",
        "\"\"\"\n",
        "rm = 0.01\n",
        "(1+rm)**12 - 1"
      ]
    },
    {
      "cell_type": "markdown",
      "id": "2266b2ca",
      "metadata": {
        "id": "2266b2ca"
      },
      "source": [
        "## Risk Adjusted Returns : Sharpe Ratio\n",
        "Sharpe Ratio = (Return on Portfolio - RFR)/(Standard Deviation of Portfolio's excess return)"
      ]
    },
    {
      "cell_type": "code",
      "execution_count": 124,
      "id": "187595e2",
      "metadata": {
        "colab": {
          "base_uri": "https://localhost:8080/"
        },
        "id": "187595e2",
        "outputId": "b621b297-e743-462b-b132-f8b1cd06b0d5"
      },
      "outputs": [
        {
          "output_type": "execute_result",
          "data": {
            "text/plain": [
              "Stock A    0.116272\n",
              "Stock B    0.155991\n",
              "dtype: float64"
            ]
          },
          "metadata": {},
          "execution_count": 124
        }
      ],
      "source": [
        "#Formula to calculate Standard Deviation\n",
        "returns.std()\n",
        "\n",
        "#==== Method 2 to compute standard deviation i.e volatility\n",
        "\n",
        "#Calculate Variance\n",
        "deviations = returns - returns.mean()\n",
        "squared_deviations = deviations**2\n",
        "\n",
        "#SQRT(Standard_deviation**2) takes (n) while std() takes (n-1) since it considers it as sample and not population\n",
        "\n",
        "#variance = squared_deviations.mean()\n",
        "number_of_obs = returns.shape[0]  #Returns number of rows\n",
        "variance = squared_deviations.sum()/(number_of_obs - 1)\n",
        "\n",
        "#Standard Deviation: Following gives same result as returns.std()\n",
        "volatility = np.sqrt(variance) \n",
        "\n",
        "#To convert monthly volatility to yearly volatility\n",
        "volatility = volatility*np.sqrt(12)\n",
        "volatility"
      ]
    },
    {
      "cell_type": "code",
      "execution_count": 125,
      "id": "ce4157f4",
      "metadata": {
        "colab": {
          "base_uri": "https://localhost:8080/",
          "height": 423
        },
        "id": "ce4157f4",
        "outputId": "5e107ea6-8188-4a6c-ff27-5f7bd2647429"
      },
      "outputs": [
        {
          "output_type": "execute_result",
          "data": {
            "text/html": [
              "\n",
              "  <div id=\"df-030c6032-4648-4bbf-905f-2e180b533ec7\">\n",
              "    <div class=\"colab-df-container\">\n",
              "      <div>\n",
              "<style scoped>\n",
              "    .dataframe tbody tr th:only-of-type {\n",
              "        vertical-align: middle;\n",
              "    }\n",
              "\n",
              "    .dataframe tbody tr th {\n",
              "        vertical-align: top;\n",
              "    }\n",
              "\n",
              "    .dataframe thead th {\n",
              "        text-align: right;\n",
              "    }\n",
              "</style>\n",
              "<table border=\"1\" class=\"dataframe\">\n",
              "  <thead>\n",
              "    <tr style=\"text-align: right;\">\n",
              "      <th></th>\n",
              "      <th>&lt;= 0</th>\n",
              "      <th>Lo 30</th>\n",
              "      <th>Med 40</th>\n",
              "      <th>Hi 30</th>\n",
              "      <th>Lo 20</th>\n",
              "      <th>Qnt 2</th>\n",
              "      <th>Qnt 3</th>\n",
              "      <th>Qnt 4</th>\n",
              "      <th>Hi 20</th>\n",
              "      <th>Lo 10</th>\n",
              "      <th>Dec 2</th>\n",
              "      <th>Dec 3</th>\n",
              "      <th>Dec 4</th>\n",
              "      <th>Dec 5</th>\n",
              "      <th>Dec 6</th>\n",
              "      <th>Dec 7</th>\n",
              "      <th>Dec 8</th>\n",
              "      <th>Dec 9</th>\n",
              "      <th>Hi 10</th>\n",
              "    </tr>\n",
              "  </thead>\n",
              "  <tbody>\n",
              "    <tr>\n",
              "      <th>192607</th>\n",
              "      <td>-99.99</td>\n",
              "      <td>-0.43</td>\n",
              "      <td>1.52</td>\n",
              "      <td>2.68</td>\n",
              "      <td>-0.57</td>\n",
              "      <td>0.59</td>\n",
              "      <td>1.60</td>\n",
              "      <td>1.47</td>\n",
              "      <td>3.33</td>\n",
              "      <td>-1.45</td>\n",
              "      <td>0.29</td>\n",
              "      <td>-0.15</td>\n",
              "      <td>1.33</td>\n",
              "      <td>1.24</td>\n",
              "      <td>1.98</td>\n",
              "      <td>1.55</td>\n",
              "      <td>1.38</td>\n",
              "      <td>3.38</td>\n",
              "      <td>3.29</td>\n",
              "    </tr>\n",
              "    <tr>\n",
              "      <th>192608</th>\n",
              "      <td>-99.99</td>\n",
              "      <td>3.90</td>\n",
              "      <td>3.04</td>\n",
              "      <td>2.09</td>\n",
              "      <td>3.84</td>\n",
              "      <td>3.59</td>\n",
              "      <td>3.71</td>\n",
              "      <td>1.61</td>\n",
              "      <td>2.33</td>\n",
              "      <td>5.12</td>\n",
              "      <td>2.59</td>\n",
              "      <td>4.03</td>\n",
              "      <td>3.15</td>\n",
              "      <td>2.72</td>\n",
              "      <td>4.72</td>\n",
              "      <td>1.60</td>\n",
              "      <td>1.63</td>\n",
              "      <td>0.98</td>\n",
              "      <td>3.70</td>\n",
              "    </tr>\n",
              "    <tr>\n",
              "      <th>192609</th>\n",
              "      <td>-99.99</td>\n",
              "      <td>-1.08</td>\n",
              "      <td>-0.54</td>\n",
              "      <td>0.16</td>\n",
              "      <td>-0.48</td>\n",
              "      <td>-1.40</td>\n",
              "      <td>0.00</td>\n",
              "      <td>-0.50</td>\n",
              "      <td>-0.09</td>\n",
              "      <td>0.93</td>\n",
              "      <td>-1.87</td>\n",
              "      <td>-2.27</td>\n",
              "      <td>-0.53</td>\n",
              "      <td>0.07</td>\n",
              "      <td>-0.07</td>\n",
              "      <td>-1.64</td>\n",
              "      <td>0.64</td>\n",
              "      <td>-0.86</td>\n",
              "      <td>0.67</td>\n",
              "    </tr>\n",
              "    <tr>\n",
              "      <th>192610</th>\n",
              "      <td>-99.99</td>\n",
              "      <td>-3.32</td>\n",
              "      <td>-3.52</td>\n",
              "      <td>-3.06</td>\n",
              "      <td>-3.29</td>\n",
              "      <td>-4.10</td>\n",
              "      <td>-2.89</td>\n",
              "      <td>-3.36</td>\n",
              "      <td>-2.95</td>\n",
              "      <td>-4.84</td>\n",
              "      <td>-1.77</td>\n",
              "      <td>-3.36</td>\n",
              "      <td>-4.83</td>\n",
              "      <td>-2.98</td>\n",
              "      <td>-2.80</td>\n",
              "      <td>-3.45</td>\n",
              "      <td>-3.27</td>\n",
              "      <td>-3.47</td>\n",
              "      <td>-2.43</td>\n",
              "    </tr>\n",
              "    <tr>\n",
              "      <th>192611</th>\n",
              "      <td>-99.99</td>\n",
              "      <td>-0.46</td>\n",
              "      <td>3.82</td>\n",
              "      <td>3.09</td>\n",
              "      <td>-0.55</td>\n",
              "      <td>2.18</td>\n",
              "      <td>3.41</td>\n",
              "      <td>3.39</td>\n",
              "      <td>3.16</td>\n",
              "      <td>-0.78</td>\n",
              "      <td>-0.32</td>\n",
              "      <td>-0.29</td>\n",
              "      <td>4.65</td>\n",
              "      <td>3.24</td>\n",
              "      <td>3.57</td>\n",
              "      <td>3.82</td>\n",
              "      <td>2.95</td>\n",
              "      <td>3.61</td>\n",
              "      <td>2.70</td>\n",
              "    </tr>\n",
              "    <tr>\n",
              "      <th>...</th>\n",
              "      <td>...</td>\n",
              "      <td>...</td>\n",
              "      <td>...</td>\n",
              "      <td>...</td>\n",
              "      <td>...</td>\n",
              "      <td>...</td>\n",
              "      <td>...</td>\n",
              "      <td>...</td>\n",
              "      <td>...</td>\n",
              "      <td>...</td>\n",
              "      <td>...</td>\n",
              "      <td>...</td>\n",
              "      <td>...</td>\n",
              "      <td>...</td>\n",
              "      <td>...</td>\n",
              "      <td>...</td>\n",
              "      <td>...</td>\n",
              "      <td>...</td>\n",
              "      <td>...</td>\n",
              "    </tr>\n",
              "    <tr>\n",
              "      <th>201808</th>\n",
              "      <td>-99.99</td>\n",
              "      <td>3.47</td>\n",
              "      <td>4.04</td>\n",
              "      <td>2.87</td>\n",
              "      <td>3.09</td>\n",
              "      <td>5.05</td>\n",
              "      <td>3.90</td>\n",
              "      <td>3.54</td>\n",
              "      <td>2.49</td>\n",
              "      <td>2.41</td>\n",
              "      <td>5.07</td>\n",
              "      <td>5.30</td>\n",
              "      <td>4.70</td>\n",
              "      <td>3.02</td>\n",
              "      <td>5.01</td>\n",
              "      <td>3.50</td>\n",
              "      <td>3.58</td>\n",
              "      <td>2.65</td>\n",
              "      <td>2.34</td>\n",
              "    </tr>\n",
              "    <tr>\n",
              "      <th>201809</th>\n",
              "      <td>-99.99</td>\n",
              "      <td>-2.24</td>\n",
              "      <td>-1.85</td>\n",
              "      <td>0.08</td>\n",
              "      <td>-2.04</td>\n",
              "      <td>-2.38</td>\n",
              "      <td>-2.48</td>\n",
              "      <td>-0.74</td>\n",
              "      <td>0.19</td>\n",
              "      <td>-1.68</td>\n",
              "      <td>-3.08</td>\n",
              "      <td>-3.22</td>\n",
              "      <td>-1.23</td>\n",
              "      <td>-2.65</td>\n",
              "      <td>-2.27</td>\n",
              "      <td>-1.31</td>\n",
              "      <td>-0.12</td>\n",
              "      <td>-0.51</td>\n",
              "      <td>0.87</td>\n",
              "    </tr>\n",
              "    <tr>\n",
              "      <th>201810</th>\n",
              "      <td>-99.99</td>\n",
              "      <td>-10.76</td>\n",
              "      <td>-10.88</td>\n",
              "      <td>-7.63</td>\n",
              "      <td>-10.52</td>\n",
              "      <td>-11.74</td>\n",
              "      <td>-10.55</td>\n",
              "      <td>-9.45</td>\n",
              "      <td>-7.41</td>\n",
              "      <td>-10.02</td>\n",
              "      <td>-11.98</td>\n",
              "      <td>-11.89</td>\n",
              "      <td>-11.52</td>\n",
              "      <td>-11.58</td>\n",
              "      <td>-9.23</td>\n",
              "      <td>-10.74</td>\n",
              "      <td>-8.04</td>\n",
              "      <td>-8.28</td>\n",
              "      <td>-6.57</td>\n",
              "    </tr>\n",
              "    <tr>\n",
              "      <th>201811</th>\n",
              "      <td>-99.99</td>\n",
              "      <td>-2.08</td>\n",
              "      <td>2.18</td>\n",
              "      <td>2.19</td>\n",
              "      <td>-2.78</td>\n",
              "      <td>1.69</td>\n",
              "      <td>1.46</td>\n",
              "      <td>2.62</td>\n",
              "      <td>2.49</td>\n",
              "      <td>-3.65</td>\n",
              "      <td>-0.23</td>\n",
              "      <td>1.23</td>\n",
              "      <td>2.30</td>\n",
              "      <td>1.74</td>\n",
              "      <td>1.11</td>\n",
              "      <td>3.54</td>\n",
              "      <td>1.63</td>\n",
              "      <td>2.45</td>\n",
              "      <td>2.53</td>\n",
              "    </tr>\n",
              "    <tr>\n",
              "      <th>201812</th>\n",
              "      <td>-99.99</td>\n",
              "      <td>-14.28</td>\n",
              "      <td>-12.41</td>\n",
              "      <td>-9.76</td>\n",
              "      <td>-14.77</td>\n",
              "      <td>-12.44</td>\n",
              "      <td>-12.22</td>\n",
              "      <td>-11.34</td>\n",
              "      <td>-9.21</td>\n",
              "      <td>-15.31</td>\n",
              "      <td>-13.19</td>\n",
              "      <td>-11.94</td>\n",
              "      <td>-13.13</td>\n",
              "      <td>-12.73</td>\n",
              "      <td>-11.57</td>\n",
              "      <td>-11.87</td>\n",
              "      <td>-10.75</td>\n",
              "      <td>-9.54</td>\n",
              "      <td>-8.90</td>\n",
              "    </tr>\n",
              "  </tbody>\n",
              "</table>\n",
              "<p>1110 rows × 19 columns</p>\n",
              "</div>\n",
              "      <button class=\"colab-df-convert\" onclick=\"convertToInteractive('df-030c6032-4648-4bbf-905f-2e180b533ec7')\"\n",
              "              title=\"Convert this dataframe to an interactive table.\"\n",
              "              style=\"display:none;\">\n",
              "        \n",
              "  <svg xmlns=\"http://www.w3.org/2000/svg\" height=\"24px\"viewBox=\"0 0 24 24\"\n",
              "       width=\"24px\">\n",
              "    <path d=\"M0 0h24v24H0V0z\" fill=\"none\"/>\n",
              "    <path d=\"M18.56 5.44l.94 2.06.94-2.06 2.06-.94-2.06-.94-.94-2.06-.94 2.06-2.06.94zm-11 1L8.5 8.5l.94-2.06 2.06-.94-2.06-.94L8.5 2.5l-.94 2.06-2.06.94zm10 10l.94 2.06.94-2.06 2.06-.94-2.06-.94-.94-2.06-.94 2.06-2.06.94z\"/><path d=\"M17.41 7.96l-1.37-1.37c-.4-.4-.92-.59-1.43-.59-.52 0-1.04.2-1.43.59L10.3 9.45l-7.72 7.72c-.78.78-.78 2.05 0 2.83L4 21.41c.39.39.9.59 1.41.59.51 0 1.02-.2 1.41-.59l7.78-7.78 2.81-2.81c.8-.78.8-2.07 0-2.86zM5.41 20L4 18.59l7.72-7.72 1.47 1.35L5.41 20z\"/>\n",
              "  </svg>\n",
              "      </button>\n",
              "      \n",
              "  <style>\n",
              "    .colab-df-container {\n",
              "      display:flex;\n",
              "      flex-wrap:wrap;\n",
              "      gap: 12px;\n",
              "    }\n",
              "\n",
              "    .colab-df-convert {\n",
              "      background-color: #E8F0FE;\n",
              "      border: none;\n",
              "      border-radius: 50%;\n",
              "      cursor: pointer;\n",
              "      display: none;\n",
              "      fill: #1967D2;\n",
              "      height: 32px;\n",
              "      padding: 0 0 0 0;\n",
              "      width: 32px;\n",
              "    }\n",
              "\n",
              "    .colab-df-convert:hover {\n",
              "      background-color: #E2EBFA;\n",
              "      box-shadow: 0px 1px 2px rgba(60, 64, 67, 0.3), 0px 1px 3px 1px rgba(60, 64, 67, 0.15);\n",
              "      fill: #174EA6;\n",
              "    }\n",
              "\n",
              "    [theme=dark] .colab-df-convert {\n",
              "      background-color: #3B4455;\n",
              "      fill: #D2E3FC;\n",
              "    }\n",
              "\n",
              "    [theme=dark] .colab-df-convert:hover {\n",
              "      background-color: #434B5C;\n",
              "      box-shadow: 0px 1px 3px 1px rgba(0, 0, 0, 0.15);\n",
              "      filter: drop-shadow(0px 1px 2px rgba(0, 0, 0, 0.3));\n",
              "      fill: #FFFFFF;\n",
              "    }\n",
              "  </style>\n",
              "\n",
              "      <script>\n",
              "        const buttonEl =\n",
              "          document.querySelector('#df-030c6032-4648-4bbf-905f-2e180b533ec7 button.colab-df-convert');\n",
              "        buttonEl.style.display =\n",
              "          google.colab.kernel.accessAllowed ? 'block' : 'none';\n",
              "\n",
              "        async function convertToInteractive(key) {\n",
              "          const element = document.querySelector('#df-030c6032-4648-4bbf-905f-2e180b533ec7');\n",
              "          const dataTable =\n",
              "            await google.colab.kernel.invokeFunction('convertToInteractive',\n",
              "                                                     [key], {});\n",
              "          if (!dataTable) return;\n",
              "\n",
              "          const docLinkHtml = 'Like what you see? Visit the ' +\n",
              "            '<a target=\"_blank\" href=https://colab.research.google.com/notebooks/data_table.ipynb>data table notebook</a>'\n",
              "            + ' to learn more about interactive tables.';\n",
              "          element.innerHTML = '';\n",
              "          dataTable['output_type'] = 'display_data';\n",
              "          await google.colab.output.renderOutput(dataTable, element);\n",
              "          const docLink = document.createElement('div');\n",
              "          docLink.innerHTML = docLinkHtml;\n",
              "          element.appendChild(docLink);\n",
              "        }\n",
              "      </script>\n",
              "    </div>\n",
              "  </div>\n",
              "  "
            ],
            "text/plain": [
              "         <= 0  Lo 30  Med 40  Hi 30  Lo 20  ...  Dec 6  Dec 7  Dec 8  Dec 9  Hi 10\n",
              "192607 -99.99  -0.43    1.52   2.68  -0.57  ...   1.98   1.55   1.38   3.38   3.29\n",
              "192608 -99.99   3.90    3.04   2.09   3.84  ...   4.72   1.60   1.63   0.98   3.70\n",
              "192609 -99.99  -1.08   -0.54   0.16  -0.48  ...  -0.07  -1.64   0.64  -0.86   0.67\n",
              "192610 -99.99  -3.32   -3.52  -3.06  -3.29  ...  -2.80  -3.45  -3.27  -3.47  -2.43\n",
              "192611 -99.99  -0.46    3.82   3.09  -0.55  ...   3.57   3.82   2.95   3.61   2.70\n",
              "...       ...    ...     ...    ...    ...  ...    ...    ...    ...    ...    ...\n",
              "201808 -99.99   3.47    4.04   2.87   3.09  ...   5.01   3.50   3.58   2.65   2.34\n",
              "201809 -99.99  -2.24   -1.85   0.08  -2.04  ...  -2.27  -1.31  -0.12  -0.51   0.87\n",
              "201810 -99.99 -10.76  -10.88  -7.63 -10.52  ...  -9.23 -10.74  -8.04  -8.28  -6.57\n",
              "201811 -99.99  -2.08    2.18   2.19  -2.78  ...   1.11   3.54   1.63   2.45   2.53\n",
              "201812 -99.99 -14.28  -12.41  -9.76 -14.77  ... -11.57 -11.87 -10.75  -9.54  -8.90\n",
              "\n",
              "[1110 rows x 19 columns]"
            ]
          },
          "metadata": {},
          "execution_count": 125
        }
      ],
      "source": [
        "returns = pd.read_csv(\"/gdrive/MyDrive/portfolio/Portfolios_Formed_on_ME_monthly_EW.csv\",\n",
        "                header=0, index_col=0, parse_dates = True, na_values = 99.99)\n",
        "returns"
      ]
    },
    {
      "cell_type": "code",
      "execution_count": 126,
      "id": "97565308",
      "metadata": {
        "colab": {
          "base_uri": "https://localhost:8080/",
          "height": 206
        },
        "id": "97565308",
        "outputId": "31a2136e-3128-4456-a7dd-1a89d42e3136"
      },
      "outputs": [
        {
          "output_type": "execute_result",
          "data": {
            "text/html": [
              "\n",
              "  <div id=\"df-017282d7-4bcb-4fb6-bbbc-99a5f918e1f0\">\n",
              "    <div class=\"colab-df-container\">\n",
              "      <div>\n",
              "<style scoped>\n",
              "    .dataframe tbody tr th:only-of-type {\n",
              "        vertical-align: middle;\n",
              "    }\n",
              "\n",
              "    .dataframe tbody tr th {\n",
              "        vertical-align: top;\n",
              "    }\n",
              "\n",
              "    .dataframe thead th {\n",
              "        text-align: right;\n",
              "    }\n",
              "</style>\n",
              "<table border=\"1\" class=\"dataframe\">\n",
              "  <thead>\n",
              "    <tr style=\"text-align: right;\">\n",
              "      <th></th>\n",
              "      <th>SmallCap</th>\n",
              "      <th>LargeCap</th>\n",
              "    </tr>\n",
              "  </thead>\n",
              "  <tbody>\n",
              "    <tr>\n",
              "      <th>192607</th>\n",
              "      <td>-0.0145</td>\n",
              "      <td>0.0329</td>\n",
              "    </tr>\n",
              "    <tr>\n",
              "      <th>192608</th>\n",
              "      <td>0.0512</td>\n",
              "      <td>0.0370</td>\n",
              "    </tr>\n",
              "    <tr>\n",
              "      <th>192609</th>\n",
              "      <td>0.0093</td>\n",
              "      <td>0.0067</td>\n",
              "    </tr>\n",
              "    <tr>\n",
              "      <th>192610</th>\n",
              "      <td>-0.0484</td>\n",
              "      <td>-0.0243</td>\n",
              "    </tr>\n",
              "    <tr>\n",
              "      <th>192611</th>\n",
              "      <td>-0.0078</td>\n",
              "      <td>0.0270</td>\n",
              "    </tr>\n",
              "  </tbody>\n",
              "</table>\n",
              "</div>\n",
              "      <button class=\"colab-df-convert\" onclick=\"convertToInteractive('df-017282d7-4bcb-4fb6-bbbc-99a5f918e1f0')\"\n",
              "              title=\"Convert this dataframe to an interactive table.\"\n",
              "              style=\"display:none;\">\n",
              "        \n",
              "  <svg xmlns=\"http://www.w3.org/2000/svg\" height=\"24px\"viewBox=\"0 0 24 24\"\n",
              "       width=\"24px\">\n",
              "    <path d=\"M0 0h24v24H0V0z\" fill=\"none\"/>\n",
              "    <path d=\"M18.56 5.44l.94 2.06.94-2.06 2.06-.94-2.06-.94-.94-2.06-.94 2.06-2.06.94zm-11 1L8.5 8.5l.94-2.06 2.06-.94-2.06-.94L8.5 2.5l-.94 2.06-2.06.94zm10 10l.94 2.06.94-2.06 2.06-.94-2.06-.94-.94-2.06-.94 2.06-2.06.94z\"/><path d=\"M17.41 7.96l-1.37-1.37c-.4-.4-.92-.59-1.43-.59-.52 0-1.04.2-1.43.59L10.3 9.45l-7.72 7.72c-.78.78-.78 2.05 0 2.83L4 21.41c.39.39.9.59 1.41.59.51 0 1.02-.2 1.41-.59l7.78-7.78 2.81-2.81c.8-.78.8-2.07 0-2.86zM5.41 20L4 18.59l7.72-7.72 1.47 1.35L5.41 20z\"/>\n",
              "  </svg>\n",
              "      </button>\n",
              "      \n",
              "  <style>\n",
              "    .colab-df-container {\n",
              "      display:flex;\n",
              "      flex-wrap:wrap;\n",
              "      gap: 12px;\n",
              "    }\n",
              "\n",
              "    .colab-df-convert {\n",
              "      background-color: #E8F0FE;\n",
              "      border: none;\n",
              "      border-radius: 50%;\n",
              "      cursor: pointer;\n",
              "      display: none;\n",
              "      fill: #1967D2;\n",
              "      height: 32px;\n",
              "      padding: 0 0 0 0;\n",
              "      width: 32px;\n",
              "    }\n",
              "\n",
              "    .colab-df-convert:hover {\n",
              "      background-color: #E2EBFA;\n",
              "      box-shadow: 0px 1px 2px rgba(60, 64, 67, 0.3), 0px 1px 3px 1px rgba(60, 64, 67, 0.15);\n",
              "      fill: #174EA6;\n",
              "    }\n",
              "\n",
              "    [theme=dark] .colab-df-convert {\n",
              "      background-color: #3B4455;\n",
              "      fill: #D2E3FC;\n",
              "    }\n",
              "\n",
              "    [theme=dark] .colab-df-convert:hover {\n",
              "      background-color: #434B5C;\n",
              "      box-shadow: 0px 1px 3px 1px rgba(0, 0, 0, 0.15);\n",
              "      filter: drop-shadow(0px 1px 2px rgba(0, 0, 0, 0.3));\n",
              "      fill: #FFFFFF;\n",
              "    }\n",
              "  </style>\n",
              "\n",
              "      <script>\n",
              "        const buttonEl =\n",
              "          document.querySelector('#df-017282d7-4bcb-4fb6-bbbc-99a5f918e1f0 button.colab-df-convert');\n",
              "        buttonEl.style.display =\n",
              "          google.colab.kernel.accessAllowed ? 'block' : 'none';\n",
              "\n",
              "        async function convertToInteractive(key) {\n",
              "          const element = document.querySelector('#df-017282d7-4bcb-4fb6-bbbc-99a5f918e1f0');\n",
              "          const dataTable =\n",
              "            await google.colab.kernel.invokeFunction('convertToInteractive',\n",
              "                                                     [key], {});\n",
              "          if (!dataTable) return;\n",
              "\n",
              "          const docLinkHtml = 'Like what you see? Visit the ' +\n",
              "            '<a target=\"_blank\" href=https://colab.research.google.com/notebooks/data_table.ipynb>data table notebook</a>'\n",
              "            + ' to learn more about interactive tables.';\n",
              "          element.innerHTML = '';\n",
              "          dataTable['output_type'] = 'display_data';\n",
              "          await google.colab.output.renderOutput(dataTable, element);\n",
              "          const docLink = document.createElement('div');\n",
              "          docLink.innerHTML = docLinkHtml;\n",
              "          element.appendChild(docLink);\n",
              "        }\n",
              "      </script>\n",
              "    </div>\n",
              "  </div>\n",
              "  "
            ],
            "text/plain": [
              "        SmallCap  LargeCap\n",
              "192607   -0.0145    0.0329\n",
              "192608    0.0512    0.0370\n",
              "192609    0.0093    0.0067\n",
              "192610   -0.0484   -0.0243\n",
              "192611   -0.0078    0.0270"
            ]
          },
          "metadata": {},
          "execution_count": 126
        }
      ],
      "source": [
        "columns = [\"Lo 10\", \"Hi 10\"]\n",
        "\n",
        "#Convert -1.45% to -0.0145 \n",
        "returns = returns[columns]/100\n",
        "\n",
        "#Rename Columns\n",
        "returns.columns = ['SmallCap', 'LargeCap']\n",
        "\n",
        "returns.head()"
      ]
    },
    {
      "cell_type": "code",
      "execution_count": 127,
      "id": "9a966844",
      "metadata": {
        "colab": {
          "base_uri": "https://localhost:8080/",
          "height": 283
        },
        "id": "9a966844",
        "outputId": "a88c3f0d-247a-418b-907d-921bbaa6fad9"
      },
      "outputs": [
        {
          "output_type": "execute_result",
          "data": {
            "text/plain": [
              "<matplotlib.axes._subplots.AxesSubplot at 0x7f2892c75210>"
            ]
          },
          "metadata": {},
          "execution_count": 127
        },
        {
          "output_type": "display_data",
          "data": {
            "image/png": "[encoded data removed]",
            "text/plain": [
              "<Figure size 432x288 with 1 Axes>"
            ]
          },
          "metadata": {
            "needs_background": "light"
          }
        }
      ],
      "source": [
        "returns.plot.line()"
      ]
    },
    {
      "cell_type": "code",
      "execution_count": 128,
      "id": "e64bd842",
      "metadata": {
        "colab": {
          "base_uri": "https://localhost:8080/"
        },
        "id": "e64bd842",
        "outputId": "ff4e060b-03af-4f1b-b258-43d6d3c62032"
      },
      "outputs": [
        {
          "output_type": "execute_result",
          "data": {
            "text/plain": [
              "SmallCap    0.368193\n",
              "LargeCap    0.186716\n",
              "dtype: float64"
            ]
          },
          "metadata": {},
          "execution_count": 128
        }
      ],
      "source": [
        "#Monthly Volatility\n",
        "returns.std()\n",
        "\n",
        "#Annual Volatility\n",
        "\"\"\"\n",
        "To present this volatility in annualized terms, \n",
        "we simply need to multiply our daily standard deviation by the square root of frequency(periods). \n",
        "\"\"\"\n",
        "annualized_vol = returns.std() * np.sqrt(12)\n",
        "annualized_vol"
      ]
    },
    {
      "cell_type": "code",
      "execution_count": 129,
      "id": "ece8fe24",
      "metadata": {
        "colab": {
          "base_uri": "https://localhost:8080/"
        },
        "id": "ece8fe24",
        "outputId": "417669c9-6718-4949-a6cb-3993601a5a27"
      },
      "outputs": [
        {
          "output_type": "execute_result",
          "data": {
            "text/plain": [
              "SmallCap    0.167463\n",
              "LargeCap    0.092810\n",
              "dtype: float64"
            ]
          },
          "metadata": {},
          "execution_count": 129
        }
      ],
      "source": [
        "#Total Return over all the months i.e 1110 months\n",
        "return_per_month = (returns+1).prod()\n",
        "\n",
        "# Return for one month = (Total Return over all the months i.e 1110 months / 1110) -1\n",
        "n_months = returns.shape[0]\n",
        "return_per_month = (returns+1).prod()**(1/n_months) - 1\n",
        "return_per_month\n",
        "\n",
        "#Return for 1 year = (1 + Return for one month)^12 - 1\n",
        "annualized_return = (return_per_month+1)**12 - 1\n",
        "annualized_return\n",
        "\n",
        "#Method 2 to calculated annualized return\n",
        "annualized_return = (returns+1).prod()**(12/n_months) - 1\n",
        "annualized_return"
      ]
    },
    {
      "cell_type": "code",
      "execution_count": 130,
      "id": "9213982c",
      "metadata": {
        "colab": {
          "base_uri": "https://localhost:8080/"
        },
        "id": "9213982c",
        "outputId": "81bf687a-907d-466b-e69f-ff026adc547c"
      },
      "outputs": [
        {
          "output_type": "execute_result",
          "data": {
            "text/plain": [
              "SmallCap    0.373346\n",
              "LargeCap    0.336392\n",
              "dtype: float64"
            ]
          },
          "metadata": {},
          "execution_count": 130
        }
      ],
      "source": [
        "#Sharpe Ratio\n",
        "riskfree_rate = 0.03\n",
        "SharpeRatio = (annualized_return - riskfree_rate)/annualized_vol\n",
        "SharpeRatio"
      ]
    },
    {
      "cell_type": "markdown",
      "id": "959918f3",
      "metadata": {
        "id": "959918f3"
      },
      "source": [
        "## Compute Drawdown: Buy at highest, Sell at lowest\n",
        "A drawdown is a peak-to-trough decline during a specific period for an investment, trading account, or fund. A drawdown is usually quoted as the percentage between the peak and the subsequent trough. If a trading account has 10,000 in it, and the funds drop to $9,000 before moving back above 10,000, then the trading account witnessed a 10 percent drawdown."
      ]
    },
    {
      "cell_type": "code",
      "execution_count": 131,
      "id": "dea596e2",
      "metadata": {
        "colab": {
          "base_uri": "https://localhost:8080/",
          "height": 283
        },
        "id": "dea596e2",
        "outputId": "8a77b3a1-b209-4308-8739-42df15e0ad21"
      },
      "outputs": [
        {
          "output_type": "execute_result",
          "data": {
            "text/plain": [
              "<matplotlib.axes._subplots.AxesSubplot at 0x7f28926bc090>"
            ]
          },
          "metadata": {},
          "execution_count": 131
        },
        {
          "output_type": "display_data",
          "data": {
            "image/png": "[encoded data removed]",
            "text/plain": [
              "<Figure size 432x288 with 1 Axes>"
            ]
          },
          "metadata": {
            "needs_background": "light"
          }
        }
      ],
      "source": [
        "\"\"\"\n",
        "If True and parse_dates is enabled, pandas will attempt to infer the format of the datetime strings in the columns, and if it can be inferred, \n",
        "switch to a faster method of parsing them.\n",
        "\"\"\"\n",
        "\n",
        "me_m = pd.read_csv(\"/gdrive/MyDrive/portfolio/Portfolios_Formed_on_ME_monthly_EW.csv\",\n",
        "                header=0, index_col=0, parse_dates = True, na_values = 99.99)\n",
        "\n",
        "\"\"\"\n",
        "columns = ['Lo 10', 'Hi 10']\n",
        "rets = me_m[columns] \n",
        "\n",
        "===> THIS CAN BE WRITTEN AS BELOW\n",
        "\"\"\"\n",
        "\n",
        "rets = me_m[['Lo 10', 'Hi 10']]\n",
        "rets.columns = ['SmallCap', 'LargeCap']\n",
        "rets = rets/100\n",
        "rets.plot.line()"
      ]
    },
    {
      "cell_type": "code",
      "execution_count": 132,
      "id": "cc78a7f7",
      "metadata": {
        "colab": {
          "base_uri": "https://localhost:8080/",
          "height": 206
        },
        "id": "cc78a7f7",
        "outputId": "cadb6c3a-9a3f-4feb-c6c5-51254663edbc"
      },
      "outputs": [
        {
          "output_type": "execute_result",
          "data": {
            "text/html": [
              "\n",
              "  <div id=\"df-18bf9130-a91c-4f99-bf22-db547d63ad13\">\n",
              "    <div class=\"colab-df-container\">\n",
              "      <div>\n",
              "<style scoped>\n",
              "    .dataframe tbody tr th:only-of-type {\n",
              "        vertical-align: middle;\n",
              "    }\n",
              "\n",
              "    .dataframe tbody tr th {\n",
              "        vertical-align: top;\n",
              "    }\n",
              "\n",
              "    .dataframe thead th {\n",
              "        text-align: right;\n",
              "    }\n",
              "</style>\n",
              "<table border=\"1\" class=\"dataframe\">\n",
              "  <thead>\n",
              "    <tr style=\"text-align: right;\">\n",
              "      <th></th>\n",
              "      <th>SmallCap</th>\n",
              "      <th>LargeCap</th>\n",
              "    </tr>\n",
              "  </thead>\n",
              "  <tbody>\n",
              "    <tr>\n",
              "      <th>1926-07-01</th>\n",
              "      <td>-0.0145</td>\n",
              "      <td>0.0329</td>\n",
              "    </tr>\n",
              "    <tr>\n",
              "      <th>1926-08-01</th>\n",
              "      <td>0.0512</td>\n",
              "      <td>0.0370</td>\n",
              "    </tr>\n",
              "    <tr>\n",
              "      <th>1926-09-01</th>\n",
              "      <td>0.0093</td>\n",
              "      <td>0.0067</td>\n",
              "    </tr>\n",
              "    <tr>\n",
              "      <th>1926-10-01</th>\n",
              "      <td>-0.0484</td>\n",
              "      <td>-0.0243</td>\n",
              "    </tr>\n",
              "    <tr>\n",
              "      <th>1926-11-01</th>\n",
              "      <td>-0.0078</td>\n",
              "      <td>0.0270</td>\n",
              "    </tr>\n",
              "  </tbody>\n",
              "</table>\n",
              "</div>\n",
              "      <button class=\"colab-df-convert\" onclick=\"convertToInteractive('df-18bf9130-a91c-4f99-bf22-db547d63ad13')\"\n",
              "              title=\"Convert this dataframe to an interactive table.\"\n",
              "              style=\"display:none;\">\n",
              "        \n",
              "  <svg xmlns=\"http://www.w3.org/2000/svg\" height=\"24px\"viewBox=\"0 0 24 24\"\n",
              "       width=\"24px\">\n",
              "    <path d=\"M0 0h24v24H0V0z\" fill=\"none\"/>\n",
              "    <path d=\"M18.56 5.44l.94 2.06.94-2.06 2.06-.94-2.06-.94-.94-2.06-.94 2.06-2.06.94zm-11 1L8.5 8.5l.94-2.06 2.06-.94-2.06-.94L8.5 2.5l-.94 2.06-2.06.94zm10 10l.94 2.06.94-2.06 2.06-.94-2.06-.94-.94-2.06-.94 2.06-2.06.94z\"/><path d=\"M17.41 7.96l-1.37-1.37c-.4-.4-.92-.59-1.43-.59-.52 0-1.04.2-1.43.59L10.3 9.45l-7.72 7.72c-.78.78-.78 2.05 0 2.83L4 21.41c.39.39.9.59 1.41.59.51 0 1.02-.2 1.41-.59l7.78-7.78 2.81-2.81c.8-.78.8-2.07 0-2.86zM5.41 20L4 18.59l7.72-7.72 1.47 1.35L5.41 20z\"/>\n",
              "  </svg>\n",
              "      </button>\n",
              "      \n",
              "  <style>\n",
              "    .colab-df-container {\n",
              "      display:flex;\n",
              "      flex-wrap:wrap;\n",
              "      gap: 12px;\n",
              "    }\n",
              "\n",
              "    .colab-df-convert {\n",
              "      background-color: #E8F0FE;\n",
              "      border: none;\n",
              "      border-radius: 50%;\n",
              "      cursor: pointer;\n",
              "      display: none;\n",
              "      fill: #1967D2;\n",
              "      height: 32px;\n",
              "      padding: 0 0 0 0;\n",
              "      width: 32px;\n",
              "    }\n",
              "\n",
              "    .colab-df-convert:hover {\n",
              "      background-color: #E2EBFA;\n",
              "      box-shadow: 0px 1px 2px rgba(60, 64, 67, 0.3), 0px 1px 3px 1px rgba(60, 64, 67, 0.15);\n",
              "      fill: #174EA6;\n",
              "    }\n",
              "\n",
              "    [theme=dark] .colab-df-convert {\n",
              "      background-color: #3B4455;\n",
              "      fill: #D2E3FC;\n",
              "    }\n",
              "\n",
              "    [theme=dark] .colab-df-convert:hover {\n",
              "      background-color: #434B5C;\n",
              "      box-shadow: 0px 1px 3px 1px rgba(0, 0, 0, 0.15);\n",
              "      filter: drop-shadow(0px 1px 2px rgba(0, 0, 0, 0.3));\n",
              "      fill: #FFFFFF;\n",
              "    }\n",
              "  </style>\n",
              "\n",
              "      <script>\n",
              "        const buttonEl =\n",
              "          document.querySelector('#df-18bf9130-a91c-4f99-bf22-db547d63ad13 button.colab-df-convert');\n",
              "        buttonEl.style.display =\n",
              "          google.colab.kernel.accessAllowed ? 'block' : 'none';\n",
              "\n",
              "        async function convertToInteractive(key) {\n",
              "          const element = document.querySelector('#df-18bf9130-a91c-4f99-bf22-db547d63ad13');\n",
              "          const dataTable =\n",
              "            await google.colab.kernel.invokeFunction('convertToInteractive',\n",
              "                                                     [key], {});\n",
              "          if (!dataTable) return;\n",
              "\n",
              "          const docLinkHtml = 'Like what you see? Visit the ' +\n",
              "            '<a target=\"_blank\" href=https://colab.research.google.com/notebooks/data_table.ipynb>data table notebook</a>'\n",
              "            + ' to learn more about interactive tables.';\n",
              "          element.innerHTML = '';\n",
              "          dataTable['output_type'] = 'display_data';\n",
              "          await google.colab.output.renderOutput(dataTable, element);\n",
              "          const docLink = document.createElement('div');\n",
              "          docLink.innerHTML = docLinkHtml;\n",
              "          element.appendChild(docLink);\n",
              "        }\n",
              "      </script>\n",
              "    </div>\n",
              "  </div>\n",
              "  "
            ],
            "text/plain": [
              "            SmallCap  LargeCap\n",
              "1926-07-01   -0.0145    0.0329\n",
              "1926-08-01    0.0512    0.0370\n",
              "1926-09-01    0.0093    0.0067\n",
              "1926-10-01   -0.0484   -0.0243\n",
              "1926-11-01   -0.0078    0.0270"
            ]
          },
          "metadata": {},
          "execution_count": 132
        }
      ],
      "source": [
        "#To convert this into TimeSeries, we will change the format of X-Axis from integer to DateTime\n",
        "rets.index = pd.to_datetime(rets.index, format=\"%Y%m\")\n",
        "rets.head()"
      ]
    },
    {
      "cell_type": "code",
      "execution_count": 133,
      "id": "6436acc9",
      "metadata": {
        "colab": {
          "base_uri": "https://localhost:8080/",
          "height": 206
        },
        "id": "6436acc9",
        "outputId": "44d302b9-db4d-49b5-cf95-9323f9a5f0e0"
      },
      "outputs": [
        {
          "output_type": "execute_result",
          "data": {
            "text/html": [
              "\n",
              "  <div id=\"df-4a2a8b76-0066-4245-ba83-8c1dee33cc06\">\n",
              "    <div class=\"colab-df-container\">\n",
              "      <div>\n",
              "<style scoped>\n",
              "    .dataframe tbody tr th:only-of-type {\n",
              "        vertical-align: middle;\n",
              "    }\n",
              "\n",
              "    .dataframe tbody tr th {\n",
              "        vertical-align: top;\n",
              "    }\n",
              "\n",
              "    .dataframe thead th {\n",
              "        text-align: right;\n",
              "    }\n",
              "</style>\n",
              "<table border=\"1\" class=\"dataframe\">\n",
              "  <thead>\n",
              "    <tr style=\"text-align: right;\">\n",
              "      <th></th>\n",
              "      <th>SmallCap</th>\n",
              "      <th>LargeCap</th>\n",
              "    </tr>\n",
              "  </thead>\n",
              "  <tbody>\n",
              "    <tr>\n",
              "      <th>1926-07</th>\n",
              "      <td>-0.0145</td>\n",
              "      <td>0.0329</td>\n",
              "    </tr>\n",
              "    <tr>\n",
              "      <th>1926-08</th>\n",
              "      <td>0.0512</td>\n",
              "      <td>0.0370</td>\n",
              "    </tr>\n",
              "    <tr>\n",
              "      <th>1926-09</th>\n",
              "      <td>0.0093</td>\n",
              "      <td>0.0067</td>\n",
              "    </tr>\n",
              "    <tr>\n",
              "      <th>1926-10</th>\n",
              "      <td>-0.0484</td>\n",
              "      <td>-0.0243</td>\n",
              "    </tr>\n",
              "    <tr>\n",
              "      <th>1926-11</th>\n",
              "      <td>-0.0078</td>\n",
              "      <td>0.0270</td>\n",
              "    </tr>\n",
              "  </tbody>\n",
              "</table>\n",
              "</div>\n",
              "      <button class=\"colab-df-convert\" onclick=\"convertToInteractive('df-4a2a8b76-0066-4245-ba83-8c1dee33cc06')\"\n",
              "              title=\"Convert this dataframe to an interactive table.\"\n",
              "              style=\"display:none;\">\n",
              "        \n",
              "  <svg xmlns=\"http://www.w3.org/2000/svg\" height=\"24px\"viewBox=\"0 0 24 24\"\n",
              "       width=\"24px\">\n",
              "    <path d=\"M0 0h24v24H0V0z\" fill=\"none\"/>\n",
              "    <path d=\"M18.56 5.44l.94 2.06.94-2.06 2.06-.94-2.06-.94-.94-2.06-.94 2.06-2.06.94zm-11 1L8.5 8.5l.94-2.06 2.06-.94-2.06-.94L8.5 2.5l-.94 2.06-2.06.94zm10 10l.94 2.06.94-2.06 2.06-.94-2.06-.94-.94-2.06-.94 2.06-2.06.94z\"/><path d=\"M17.41 7.96l-1.37-1.37c-.4-.4-.92-.59-1.43-.59-.52 0-1.04.2-1.43.59L10.3 9.45l-7.72 7.72c-.78.78-.78 2.05 0 2.83L4 21.41c.39.39.9.59 1.41.59.51 0 1.02-.2 1.41-.59l7.78-7.78 2.81-2.81c.8-.78.8-2.07 0-2.86zM5.41 20L4 18.59l7.72-7.72 1.47 1.35L5.41 20z\"/>\n",
              "  </svg>\n",
              "      </button>\n",
              "      \n",
              "  <style>\n",
              "    .colab-df-container {\n",
              "      display:flex;\n",
              "      flex-wrap:wrap;\n",
              "      gap: 12px;\n",
              "    }\n",
              "\n",
              "    .colab-df-convert {\n",
              "      background-color: #E8F0FE;\n",
              "      border: none;\n",
              "      border-radius: 50%;\n",
              "      cursor: pointer;\n",
              "      display: none;\n",
              "      fill: #1967D2;\n",
              "      height: 32px;\n",
              "      padding: 0 0 0 0;\n",
              "      width: 32px;\n",
              "    }\n",
              "\n",
              "    .colab-df-convert:hover {\n",
              "      background-color: #E2EBFA;\n",
              "      box-shadow: 0px 1px 2px rgba(60, 64, 67, 0.3), 0px 1px 3px 1px rgba(60, 64, 67, 0.15);\n",
              "      fill: #174EA6;\n",
              "    }\n",
              "\n",
              "    [theme=dark] .colab-df-convert {\n",
              "      background-color: #3B4455;\n",
              "      fill: #D2E3FC;\n",
              "    }\n",
              "\n",
              "    [theme=dark] .colab-df-convert:hover {\n",
              "      background-color: #434B5C;\n",
              "      box-shadow: 0px 1px 3px 1px rgba(0, 0, 0, 0.15);\n",
              "      filter: drop-shadow(0px 1px 2px rgba(0, 0, 0, 0.3));\n",
              "      fill: #FFFFFF;\n",
              "    }\n",
              "  </style>\n",
              "\n",
              "      <script>\n",
              "        const buttonEl =\n",
              "          document.querySelector('#df-4a2a8b76-0066-4245-ba83-8c1dee33cc06 button.colab-df-convert');\n",
              "        buttonEl.style.display =\n",
              "          google.colab.kernel.accessAllowed ? 'block' : 'none';\n",
              "\n",
              "        async function convertToInteractive(key) {\n",
              "          const element = document.querySelector('#df-4a2a8b76-0066-4245-ba83-8c1dee33cc06');\n",
              "          const dataTable =\n",
              "            await google.colab.kernel.invokeFunction('convertToInteractive',\n",
              "                                                     [key], {});\n",
              "          if (!dataTable) return;\n",
              "\n",
              "          const docLinkHtml = 'Like what you see? Visit the ' +\n",
              "            '<a target=\"_blank\" href=https://colab.research.google.com/notebooks/data_table.ipynb>data table notebook</a>'\n",
              "            + ' to learn more about interactive tables.';\n",
              "          element.innerHTML = '';\n",
              "          dataTable['output_type'] = 'display_data';\n",
              "          await google.colab.output.renderOutput(dataTable, element);\n",
              "          const docLink = document.createElement('div');\n",
              "          docLink.innerHTML = docLinkHtml;\n",
              "          element.appendChild(docLink);\n",
              "        }\n",
              "      </script>\n",
              "    </div>\n",
              "  </div>\n",
              "  "
            ],
            "text/plain": [
              "         SmallCap  LargeCap\n",
              "1926-07   -0.0145    0.0329\n",
              "1926-08    0.0512    0.0370\n",
              "1926-09    0.0093    0.0067\n",
              "1926-10   -0.0484   -0.0243\n",
              "1926-11   -0.0078    0.0270"
            ]
          },
          "metadata": {},
          "execution_count": 133
        }
      ],
      "source": [
        "#Function to cast the underlying data of the given series object to Index at target frequency\n",
        "\n",
        "\"\"\"\n",
        "To display records only for particular year, use rets[year]\n",
        "\n",
        "Ex. rets[\"1975\"]\n",
        "\"\"\"\n",
        "\n",
        "#Cast Index to monthly frequency\n",
        "rets.index = rets.index.to_period('M')\n",
        "rets.head()"
      ]
    },
    {
      "cell_type": "markdown",
      "id": "83874659",
      "metadata": {
        "id": "83874659"
      },
      "source": [
        "### Compute Drawdowns\n",
        "\n",
        "1. Compute a wealth index\n",
        "    => The wealth index is basically the cumulative product of the all monthly returns in defined period\n",
        "2. Compute previous peaks\n",
        "3. Compute Drawdown - which is wealth value as a percentage of previous peak"
      ]
    },
    {
      "cell_type": "code",
      "execution_count": 134,
      "id": "b9b9fff6",
      "metadata": {
        "colab": {
          "base_uri": "https://localhost:8080/",
          "height": 0
        },
        "id": "b9b9fff6",
        "outputId": "e6dc8a3f-e403-4249-93de-5a033eb2bc43"
      },
      "outputs": [
        {
          "output_type": "execute_result",
          "data": {
            "text/plain": [
              "<matplotlib.axes._subplots.AxesSubplot at 0x7f289261b4d0>"
            ]
          },
          "metadata": {},
          "execution_count": 134
        },
        {
          "output_type": "display_data",
          "data": {
            "image/png": "[encoded data removed]",
            "text/plain": [
              "<Figure size 432x288 with 1 Axes>"
            ]
          },
          "metadata": {
            "needs_background": "light"
          }
        }
      ],
      "source": [
        "#Calculate cumulative returns\n",
        "wealth_index = 1000*(1+rets['LargeCap']).cumprod()\n",
        "wealth_index.head()\n",
        "wealth_index.plot.line()"
      ]
    },
    {
      "cell_type": "code",
      "execution_count": 135,
      "id": "0b3e6754",
      "metadata": {
        "colab": {
          "base_uri": "https://localhost:8080/",
          "height": 0
        },
        "id": "0b3e6754",
        "outputId": "dc3bd4f6-09b7-4170-f88c-6d39f776b5cf"
      },
      "outputs": [
        {
          "output_type": "execute_result",
          "data": {
            "text/plain": [
              "<matplotlib.axes._subplots.AxesSubplot at 0x7f28925c66d0>"
            ]
          },
          "metadata": {},
          "execution_count": 135
        },
        {
          "output_type": "display_data",
          "data": {
            "image/png": "[encoded data removed]",
            "text/plain": [
              "<Figure size 432x288 with 1 Axes>"
            ]
          },
          "metadata": {
            "needs_background": "light"
          }
        }
      ],
      "source": [
        "#Calculate previous maximum value\n",
        "previous_peaks = wealth_index.cummax()\n",
        "previous_peaks.head()\n",
        "previous_peaks.plot()"
      ]
    },
    {
      "cell_type": "code",
      "execution_count": 136,
      "id": "f55cf585",
      "metadata": {
        "colab": {
          "base_uri": "https://localhost:8080/",
          "height": 0
        },
        "id": "f55cf585",
        "outputId": "db5842c9-5d3d-4444-9605-59d1983d574a"
      },
      "outputs": [
        {
          "output_type": "execute_result",
          "data": {
            "text/plain": [
              "<matplotlib.axes._subplots.AxesSubplot at 0x7f28924ee510>"
            ]
          },
          "metadata": {},
          "execution_count": 136
        },
        {
          "output_type": "display_data",
          "data": {
            "image/png": "[encoded data removed]",
            "text/plain": [
              "<Figure size 432x288 with 1 Axes>"
            ]
          },
          "metadata": {
            "needs_background": "light"
          }
        }
      ],
      "source": [
        "#Drawdown\n",
        "drawdown = (wealth_index - previous_peaks)/previous_peaks\n",
        "drawdown.plot()"
      ]
    },
    {
      "cell_type": "code",
      "execution_count": 137,
      "id": "da674983",
      "metadata": {
        "colab": {
          "base_uri": "https://localhost:8080/"
        },
        "id": "da674983",
        "outputId": "f2d6a22e-7cc6-4a68-f36c-03196df6520d"
      },
      "outputs": [
        {
          "output_type": "execute_result",
          "data": {
            "text/plain": [
              "Period('2009-02', 'M')"
            ]
          },
          "metadata": {},
          "execution_count": 137
        }
      ],
      "source": [
        "#Maximum drawdown since 1975\n",
        "drawdown[\"1975\":].min()\n",
        "\n",
        "#To calculate corresponding index of maximum drawdown\n",
        "drawdown[\"1975\":].idxmin()"
      ]
    },
    {
      "cell_type": "code",
      "execution_count": 138,
      "id": "01e04d75",
      "metadata": {
        "id": "01e04d75"
      },
      "outputs": [],
      "source": [
        "def drawdown(return_series: pd.Series):\n",
        "    \"\"\"\n",
        "    Takes a time series of asset returns\n",
        "    Computes and returns a DataFrame that contains:\n",
        "    1) The Wealth Index\n",
        "    2) Previous Peaks\n",
        "    3) Percent drawdowns\n",
        "    \"\"\"\n",
        "    \n",
        "    wealth_index = 1000 * (1+return_series).cumprod()\n",
        "    previous_peak = wealth_index.cummax()\n",
        "    drawdowns = (wealth_index - previous_peak)/previous_peak\n",
        "    \n",
        "    return pd.DataFrame({\n",
        "        \"Wealth\" : wealth_index,\n",
        "        \"Peaks\" : previous_peak,\n",
        "        \"Drawdown\" : drawdowns\n",
        "    })"
      ]
    },
    {
      "cell_type": "code",
      "execution_count": 139,
      "id": "c06f6904",
      "metadata": {
        "colab": {
          "base_uri": "https://localhost:8080/",
          "height": 0
        },
        "id": "c06f6904",
        "outputId": "5bdf0446-50ed-4ca2-e309-1e0f42e9b09f"
      },
      "outputs": [
        {
          "output_type": "execute_result",
          "data": {
            "text/html": [
              "\n",
              "  <div id=\"df-43b62f69-8176-4440-99bf-b290300fb449\">\n",
              "    <div class=\"colab-df-container\">\n",
              "      <div>\n",
              "<style scoped>\n",
              "    .dataframe tbody tr th:only-of-type {\n",
              "        vertical-align: middle;\n",
              "    }\n",
              "\n",
              "    .dataframe tbody tr th {\n",
              "        vertical-align: top;\n",
              "    }\n",
              "\n",
              "    .dataframe thead th {\n",
              "        text-align: right;\n",
              "    }\n",
              "</style>\n",
              "<table border=\"1\" class=\"dataframe\">\n",
              "  <thead>\n",
              "    <tr style=\"text-align: right;\">\n",
              "      <th></th>\n",
              "      <th>Wealth</th>\n",
              "      <th>Peaks</th>\n",
              "      <th>Drawdown</th>\n",
              "    </tr>\n",
              "  </thead>\n",
              "  <tbody>\n",
              "    <tr>\n",
              "      <th>1926-07</th>\n",
              "      <td>1032.900000</td>\n",
              "      <td>1032.900000</td>\n",
              "      <td>0.0000</td>\n",
              "    </tr>\n",
              "    <tr>\n",
              "      <th>1926-08</th>\n",
              "      <td>1071.117300</td>\n",
              "      <td>1071.117300</td>\n",
              "      <td>0.0000</td>\n",
              "    </tr>\n",
              "    <tr>\n",
              "      <th>1926-09</th>\n",
              "      <td>1078.293786</td>\n",
              "      <td>1078.293786</td>\n",
              "      <td>0.0000</td>\n",
              "    </tr>\n",
              "    <tr>\n",
              "      <th>1926-10</th>\n",
              "      <td>1052.091247</td>\n",
              "      <td>1078.293786</td>\n",
              "      <td>-0.0243</td>\n",
              "    </tr>\n",
              "    <tr>\n",
              "      <th>1926-11</th>\n",
              "      <td>1080.497711</td>\n",
              "      <td>1080.497711</td>\n",
              "      <td>0.0000</td>\n",
              "    </tr>\n",
              "  </tbody>\n",
              "</table>\n",
              "</div>\n",
              "      <button class=\"colab-df-convert\" onclick=\"convertToInteractive('df-43b62f69-8176-4440-99bf-b290300fb449')\"\n",
              "              title=\"Convert this dataframe to an interactive table.\"\n",
              "              style=\"display:none;\">\n",
              "        \n",
              "  <svg xmlns=\"http://www.w3.org/2000/svg\" height=\"24px\"viewBox=\"0 0 24 24\"\n",
              "       width=\"24px\">\n",
              "    <path d=\"M0 0h24v24H0V0z\" fill=\"none\"/>\n",
              "    <path d=\"M18.56 5.44l.94 2.06.94-2.06 2.06-.94-2.06-.94-.94-2.06-.94 2.06-2.06.94zm-11 1L8.5 8.5l.94-2.06 2.06-.94-2.06-.94L8.5 2.5l-.94 2.06-2.06.94zm10 10l.94 2.06.94-2.06 2.06-.94-2.06-.94-.94-2.06-.94 2.06-2.06.94z\"/><path d=\"M17.41 7.96l-1.37-1.37c-.4-.4-.92-.59-1.43-.59-.52 0-1.04.2-1.43.59L10.3 9.45l-7.72 7.72c-.78.78-.78 2.05 0 2.83L4 21.41c.39.39.9.59 1.41.59.51 0 1.02-.2 1.41-.59l7.78-7.78 2.81-2.81c.8-.78.8-2.07 0-2.86zM5.41 20L4 18.59l7.72-7.72 1.47 1.35L5.41 20z\"/>\n",
              "  </svg>\n",
              "      </button>\n",
              "      \n",
              "  <style>\n",
              "    .colab-df-container {\n",
              "      display:flex;\n",
              "      flex-wrap:wrap;\n",
              "      gap: 12px;\n",
              "    }\n",
              "\n",
              "    .colab-df-convert {\n",
              "      background-color: #E8F0FE;\n",
              "      border: none;\n",
              "      border-radius: 50%;\n",
              "      cursor: pointer;\n",
              "      display: none;\n",
              "      fill: #1967D2;\n",
              "      height: 32px;\n",
              "      padding: 0 0 0 0;\n",
              "      width: 32px;\n",
              "    }\n",
              "\n",
              "    .colab-df-convert:hover {\n",
              "      background-color: #E2EBFA;\n",
              "      box-shadow: 0px 1px 2px rgba(60, 64, 67, 0.3), 0px 1px 3px 1px rgba(60, 64, 67, 0.15);\n",
              "      fill: #174EA6;\n",
              "    }\n",
              "\n",
              "    [theme=dark] .colab-df-convert {\n",
              "      background-color: #3B4455;\n",
              "      fill: #D2E3FC;\n",
              "    }\n",
              "\n",
              "    [theme=dark] .colab-df-convert:hover {\n",
              "      background-color: #434B5C;\n",
              "      box-shadow: 0px 1px 3px 1px rgba(0, 0, 0, 0.15);\n",
              "      filter: drop-shadow(0px 1px 2px rgba(0, 0, 0, 0.3));\n",
              "      fill: #FFFFFF;\n",
              "    }\n",
              "  </style>\n",
              "\n",
              "      <script>\n",
              "        const buttonEl =\n",
              "          document.querySelector('#df-43b62f69-8176-4440-99bf-b290300fb449 button.colab-df-convert');\n",
              "        buttonEl.style.display =\n",
              "          google.colab.kernel.accessAllowed ? 'block' : 'none';\n",
              "\n",
              "        async function convertToInteractive(key) {\n",
              "          const element = document.querySelector('#df-43b62f69-8176-4440-99bf-b290300fb449');\n",
              "          const dataTable =\n",
              "            await google.colab.kernel.invokeFunction('convertToInteractive',\n",
              "                                                     [key], {});\n",
              "          if (!dataTable) return;\n",
              "\n",
              "          const docLinkHtml = 'Like what you see? Visit the ' +\n",
              "            '<a target=\"_blank\" href=https://colab.research.google.com/notebooks/data_table.ipynb>data table notebook</a>'\n",
              "            + ' to learn more about interactive tables.';\n",
              "          element.innerHTML = '';\n",
              "          dataTable['output_type'] = 'display_data';\n",
              "          await google.colab.output.renderOutput(dataTable, element);\n",
              "          const docLink = document.createElement('div');\n",
              "          docLink.innerHTML = docLinkHtml;\n",
              "          element.appendChild(docLink);\n",
              "        }\n",
              "      </script>\n",
              "    </div>\n",
              "  </div>\n",
              "  "
            ],
            "text/plain": [
              "              Wealth        Peaks  Drawdown\n",
              "1926-07  1032.900000  1032.900000    0.0000\n",
              "1926-08  1071.117300  1071.117300    0.0000\n",
              "1926-09  1078.293786  1078.293786    0.0000\n",
              "1926-10  1052.091247  1078.293786   -0.0243\n",
              "1926-11  1080.497711  1080.497711    0.0000"
            ]
          },
          "metadata": {},
          "execution_count": 139
        }
      ],
      "source": [
        "drawdown(rets['LargeCap']).head()"
      ]
    },
    {
      "cell_type": "code",
      "execution_count": 140,
      "id": "7150aebc",
      "metadata": {
        "colab": {
          "base_uri": "https://localhost:8080/",
          "height": 0
        },
        "id": "7150aebc",
        "outputId": "566b1206-b96b-4c32-a4f9-00ee0a3a467e"
      },
      "outputs": [
        {
          "output_type": "execute_result",
          "data": {
            "text/plain": [
              "<matplotlib.axes._subplots.AxesSubplot at 0x7f28924256d0>"
            ]
          },
          "metadata": {},
          "execution_count": 140
        },
        {
          "output_type": "display_data",
          "data": {
            "image/png": "[encoded data removed]",
            "text/plain": [
              "<Figure size 432x288 with 1 Axes>"
            ]
          },
          "metadata": {
            "needs_background": "light"
          }
        }
      ],
      "source": [
        "drawdown(rets['LargeCap'])[['Wealth', 'Peaks']].plot()"
      ]
    },
    {
      "cell_type": "code",
      "execution_count": 141,
      "id": "77d108b1",
      "metadata": {
        "colab": {
          "base_uri": "https://localhost:8080/",
          "height": 0
        },
        "id": "77d108b1",
        "outputId": "0b2bd7ca-6a02-4410-b4f7-583e8141b1b8"
      },
      "outputs": [
        {
          "output_type": "execute_result",
          "data": {
            "text/plain": [
              "<matplotlib.axes._subplots.AxesSubplot at 0x7f2892380e50>"
            ]
          },
          "metadata": {},
          "execution_count": 141
        },
        {
          "output_type": "display_data",
          "data": {
            "image/png": "[encoded data removed]",
            "text/plain": [
              "<Figure size 432x288 with 1 Axes>"
            ]
          },
          "metadata": {
            "needs_background": "light"
          }
        }
      ],
      "source": [
        "#To plot wealth and index of LargeCap upto 1950\n",
        "drawdown(rets[:\"1950\"]['LargeCap'])[['Wealth', 'Peaks']].plot()"
      ]
    },
    {
      "cell_type": "code",
      "execution_count": 142,
      "id": "bc3c0389",
      "metadata": {
        "colab": {
          "base_uri": "https://localhost:8080/"
        },
        "id": "bc3c0389",
        "outputId": "b977e850-bd9f-4a22-fcf8-d54fe711e693"
      },
      "outputs": [
        {
          "output_type": "execute_result",
          "data": {
            "text/plain": [
              "Drawdown   -0.840038\n",
              "dtype: float64"
            ]
          },
          "metadata": {},
          "execution_count": 142
        }
      ],
      "source": [
        "drawdown(rets['LargeCap'])[['Drawdown']].min()"
      ]
    },
    {
      "cell_type": "code",
      "execution_count": 143,
      "id": "5c59e7d6",
      "metadata": {
        "colab": {
          "base_uri": "https://localhost:8080/"
        },
        "id": "5c59e7d6",
        "outputId": "168faf8d-1f48-4957-a8df-5e329de05cb4"
      },
      "outputs": [
        {
          "output_type": "execute_result",
          "data": {
            "text/plain": [
              "Drawdown    1932-05\n",
              "dtype: period[M]"
            ]
          },
          "metadata": {},
          "execution_count": 143
        }
      ],
      "source": [
        "drawdown(rets['LargeCap'])[['Drawdown']].idxmin()"
      ]
    },
    {
      "cell_type": "code",
      "execution_count": 144,
      "id": "3aef8725",
      "metadata": {
        "colab": {
          "base_uri": "https://localhost:8080/"
        },
        "id": "3aef8725",
        "outputId": "c3e99e8f-e8a1-44d1-9c35-de27287f90b2"
      },
      "outputs": [
        {
          "output_type": "execute_result",
          "data": {
            "text/plain": [
              "Drawdown   -0.833001\n",
              "dtype: float64"
            ]
          },
          "metadata": {},
          "execution_count": 144
        }
      ],
      "source": [
        "drawdown(rets['SmallCap'])[['Drawdown']].min()"
      ]
    },
    {
      "cell_type": "code",
      "execution_count": 145,
      "id": "7dc4682a",
      "metadata": {
        "colab": {
          "base_uri": "https://localhost:8080/"
        },
        "id": "7dc4682a",
        "outputId": "ea17d083-5895-4e70-df4e-d5949d82b927"
      },
      "outputs": [
        {
          "output_type": "execute_result",
          "data": {
            "text/plain": [
              "Drawdown    1932-05\n",
              "dtype: period[M]"
            ]
          },
          "metadata": {},
          "execution_count": 145
        }
      ],
      "source": [
        "drawdown(rets['SmallCap'])[['Drawdown']].idxmin()"
      ]
    },
    {
      "cell_type": "markdown",
      "id": "55a2fee0",
      "metadata": {
        "id": "55a2fee0"
      },
      "source": [
        "# Building Modules"
      ]
    },
    {
      "cell_type": "code",
      "source": [
        "import sys\n",
        "sys.path.insert(0,'/gdrive/MyDrive/portfolio')"
      ],
      "metadata": {
        "id": "HMC8b9dLXPAE"
      },
      "id": "HMC8b9dLXPAE",
      "execution_count": 146,
      "outputs": []
    },
    {
      "cell_type": "code",
      "execution_count": 147,
      "id": "a9b308aa",
      "metadata": {
        "colab": {
          "base_uri": "https://localhost:8080/"
        },
        "id": "a9b308aa",
        "outputId": "646e2b46-20fd-473b-fb67-26516d2234ec"
      },
      "outputs": [
        {
          "output_type": "stream",
          "name": "stdout",
          "text": [
            "The autoreload extension is already loaded. To reload it, use:\n",
            "  %reload_ext autoreload\n"
          ]
        }
      ],
      "source": [
        "#Mode2 is auto reload everything, anytime any file that you imported changes\n",
        "\n",
        "%load_ext autoreload \n",
        "%autoreload 2\n",
        "%reload_ext autoreload\n",
        "\n",
        "import edhec_risk_kits as erk"
      ]
    },
    {
      "cell_type": "code",
      "execution_count": 148,
      "id": "c971d2e0",
      "metadata": {
        "colab": {
          "base_uri": "https://localhost:8080/",
          "height": 206
        },
        "id": "c971d2e0",
        "outputId": "4f59914b-5a71-4cd3-fc18-480d6ad810e1"
      },
      "outputs": [
        {
          "output_type": "execute_result",
          "data": {
            "text/html": [
              "\n",
              "  <div id=\"df-1de6f267-d946-4a02-81f3-d8a40476f028\">\n",
              "    <div class=\"colab-df-container\">\n",
              "      <div>\n",
              "<style scoped>\n",
              "    .dataframe tbody tr th:only-of-type {\n",
              "        vertical-align: middle;\n",
              "    }\n",
              "\n",
              "    .dataframe tbody tr th {\n",
              "        vertical-align: top;\n",
              "    }\n",
              "\n",
              "    .dataframe thead th {\n",
              "        text-align: right;\n",
              "    }\n",
              "</style>\n",
              "<table border=\"1\" class=\"dataframe\">\n",
              "  <thead>\n",
              "    <tr style=\"text-align: right;\">\n",
              "      <th></th>\n",
              "      <th>SmallCap</th>\n",
              "      <th>LargeCap</th>\n",
              "    </tr>\n",
              "  </thead>\n",
              "  <tbody>\n",
              "    <tr>\n",
              "      <th>1926-07</th>\n",
              "      <td>-0.0145</td>\n",
              "      <td>0.0329</td>\n",
              "    </tr>\n",
              "    <tr>\n",
              "      <th>1926-08</th>\n",
              "      <td>0.0512</td>\n",
              "      <td>0.0370</td>\n",
              "    </tr>\n",
              "    <tr>\n",
              "      <th>1926-09</th>\n",
              "      <td>0.0093</td>\n",
              "      <td>0.0067</td>\n",
              "    </tr>\n",
              "    <tr>\n",
              "      <th>1926-10</th>\n",
              "      <td>-0.0484</td>\n",
              "      <td>-0.0243</td>\n",
              "    </tr>\n",
              "    <tr>\n",
              "      <th>1926-11</th>\n",
              "      <td>-0.0078</td>\n",
              "      <td>0.0270</td>\n",
              "    </tr>\n",
              "  </tbody>\n",
              "</table>\n",
              "</div>\n",
              "      <button class=\"colab-df-convert\" onclick=\"convertToInteractive('df-1de6f267-d946-4a02-81f3-d8a40476f028')\"\n",
              "              title=\"Convert this dataframe to an interactive table.\"\n",
              "              style=\"display:none;\">\n",
              "        \n",
              "  <svg xmlns=\"http://www.w3.org/2000/svg\" height=\"24px\"viewBox=\"0 0 24 24\"\n",
              "       width=\"24px\">\n",
              "    <path d=\"M0 0h24v24H0V0z\" fill=\"none\"/>\n",
              "    <path d=\"M18.56 5.44l.94 2.06.94-2.06 2.06-.94-2.06-.94-.94-2.06-.94 2.06-2.06.94zm-11 1L8.5 8.5l.94-2.06 2.06-.94-2.06-.94L8.5 2.5l-.94 2.06-2.06.94zm10 10l.94 2.06.94-2.06 2.06-.94-2.06-.94-.94-2.06-.94 2.06-2.06.94z\"/><path d=\"M17.41 7.96l-1.37-1.37c-.4-.4-.92-.59-1.43-.59-.52 0-1.04.2-1.43.59L10.3 9.45l-7.72 7.72c-.78.78-.78 2.05 0 2.83L4 21.41c.39.39.9.59 1.41.59.51 0 1.02-.2 1.41-.59l7.78-7.78 2.81-2.81c.8-.78.8-2.07 0-2.86zM5.41 20L4 18.59l7.72-7.72 1.47 1.35L5.41 20z\"/>\n",
              "  </svg>\n",
              "      </button>\n",
              "      \n",
              "  <style>\n",
              "    .colab-df-container {\n",
              "      display:flex;\n",
              "      flex-wrap:wrap;\n",
              "      gap: 12px;\n",
              "    }\n",
              "\n",
              "    .colab-df-convert {\n",
              "      background-color: #E8F0FE;\n",
              "      border: none;\n",
              "      border-radius: 50%;\n",
              "      cursor: pointer;\n",
              "      display: none;\n",
              "      fill: #1967D2;\n",
              "      height: 32px;\n",
              "      padding: 0 0 0 0;\n",
              "      width: 32px;\n",
              "    }\n",
              "\n",
              "    .colab-df-convert:hover {\n",
              "      background-color: #E2EBFA;\n",
              "      box-shadow: 0px 1px 2px rgba(60, 64, 67, 0.3), 0px 1px 3px 1px rgba(60, 64, 67, 0.15);\n",
              "      fill: #174EA6;\n",
              "    }\n",
              "\n",
              "    [theme=dark] .colab-df-convert {\n",
              "      background-color: #3B4455;\n",
              "      fill: #D2E3FC;\n",
              "    }\n",
              "\n",
              "    [theme=dark] .colab-df-convert:hover {\n",
              "      background-color: #434B5C;\n",
              "      box-shadow: 0px 1px 3px 1px rgba(0, 0, 0, 0.15);\n",
              "      filter: drop-shadow(0px 1px 2px rgba(0, 0, 0, 0.3));\n",
              "      fill: #FFFFFF;\n",
              "    }\n",
              "  </style>\n",
              "\n",
              "      <script>\n",
              "        const buttonEl =\n",
              "          document.querySelector('#df-1de6f267-d946-4a02-81f3-d8a40476f028 button.colab-df-convert');\n",
              "        buttonEl.style.display =\n",
              "          google.colab.kernel.accessAllowed ? 'block' : 'none';\n",
              "\n",
              "        async function convertToInteractive(key) {\n",
              "          const element = document.querySelector('#df-1de6f267-d946-4a02-81f3-d8a40476f028');\n",
              "          const dataTable =\n",
              "            await google.colab.kernel.invokeFunction('convertToInteractive',\n",
              "                                                     [key], {});\n",
              "          if (!dataTable) return;\n",
              "\n",
              "          const docLinkHtml = 'Like what you see? Visit the ' +\n",
              "            '<a target=\"_blank\" href=https://colab.research.google.com/notebooks/data_table.ipynb>data table notebook</a>'\n",
              "            + ' to learn more about interactive tables.';\n",
              "          element.innerHTML = '';\n",
              "          dataTable['output_type'] = 'display_data';\n",
              "          await google.colab.output.renderOutput(dataTable, element);\n",
              "          const docLink = document.createElement('div');\n",
              "          docLink.innerHTML = docLinkHtml;\n",
              "          element.appendChild(docLink);\n",
              "        }\n",
              "      </script>\n",
              "    </div>\n",
              "  </div>\n",
              "  "
            ],
            "text/plain": [
              "         SmallCap  LargeCap\n",
              "1926-07   -0.0145    0.0329\n",
              "1926-08    0.0512    0.0370\n",
              "1926-09    0.0093    0.0067\n",
              "1926-10   -0.0484   -0.0243\n",
              "1926-11   -0.0078    0.0270"
            ]
          },
          "metadata": {},
          "execution_count": 148
        }
      ],
      "source": [
        "returns = erk.get_ffme_returns()\n",
        "returns.head()"
      ]
    },
    {
      "cell_type": "code",
      "execution_count": 149,
      "id": "fcf1a11b",
      "metadata": {
        "colab": {
          "base_uri": "https://localhost:8080/"
        },
        "id": "fcf1a11b",
        "outputId": "4eb16bce-335b-4a87-a0cb-4f4375299ce3"
      },
      "outputs": [
        {
          "output_type": "execute_result",
          "data": {
            "text/plain": [
              "-0.8330007793945303"
            ]
          },
          "metadata": {},
          "execution_count": 149
        }
      ],
      "source": [
        "#To compute maximum drawdown for SmallCap funds\n",
        "erk.drawdown(returns[\"SmallCap\"])[\"Drawdown\"].min()"
      ]
    },
    {
      "cell_type": "markdown",
      "id": "c0b0e699",
      "metadata": {
        "id": "c0b0e699"
      },
      "source": [
        "# Deviations from Normality"
      ]
    },
    {
      "cell_type": "code",
      "execution_count": 151,
      "id": "c595e1cf",
      "metadata": {
        "id": "c595e1cf"
      },
      "outputs": [],
      "source": [
        "import edhec_risk_kits as erk\n",
        "\n",
        "hfi = erk.get_hfi_returns()\n",
        "\n",
        "hfi = pd.read_csv(\"/gdrive/MyDrive/portfolio/edhec-hedgefundindices.csv\",\n",
        "                header=0, index_col=0, parse_dates = True)\n",
        "hfi = hfi/100\n",
        "hfi.index = hfi.index.to_period('M')"
      ]
    },
    {
      "cell_type": "code",
      "execution_count": 152,
      "id": "a43ecf10",
      "metadata": {
        "colab": {
          "base_uri": "https://localhost:8080/",
          "height": 457
        },
        "id": "a43ecf10",
        "outputId": "6924e9b5-0bf2-43b5-d858-26fa0f63efac"
      },
      "outputs": [
        {
          "output_type": "execute_result",
          "data": {
            "text/html": [
              "\n",
              "  <div id=\"df-73a9b808-bc44-4337-98a7-da07d7d14af8\">\n",
              "    <div class=\"colab-df-container\">\n",
              "      <div>\n",
              "<style scoped>\n",
              "    .dataframe tbody tr th:only-of-type {\n",
              "        vertical-align: middle;\n",
              "    }\n",
              "\n",
              "    .dataframe tbody tr th {\n",
              "        vertical-align: top;\n",
              "    }\n",
              "\n",
              "    .dataframe thead th {\n",
              "        text-align: right;\n",
              "    }\n",
              "</style>\n",
              "<table border=\"1\" class=\"dataframe\">\n",
              "  <thead>\n",
              "    <tr style=\"text-align: right;\">\n",
              "      <th></th>\n",
              "      <th>Mean</th>\n",
              "      <th>Median</th>\n",
              "      <th>Mean&gt;Median -&gt; Left Skewed?</th>\n",
              "    </tr>\n",
              "  </thead>\n",
              "  <tbody>\n",
              "    <tr>\n",
              "      <th>Convertible Arbitrage</th>\n",
              "      <td>0.005508</td>\n",
              "      <td>0.0065</td>\n",
              "      <td>False</td>\n",
              "    </tr>\n",
              "    <tr>\n",
              "      <th>CTA Global</th>\n",
              "      <td>0.004074</td>\n",
              "      <td>0.0014</td>\n",
              "      <td>True</td>\n",
              "    </tr>\n",
              "    <tr>\n",
              "      <th>Distressed Securities</th>\n",
              "      <td>0.006946</td>\n",
              "      <td>0.0089</td>\n",
              "      <td>False</td>\n",
              "    </tr>\n",
              "    <tr>\n",
              "      <th>Emerging Markets</th>\n",
              "      <td>0.006253</td>\n",
              "      <td>0.0096</td>\n",
              "      <td>False</td>\n",
              "    </tr>\n",
              "    <tr>\n",
              "      <th>Equity Market Neutral</th>\n",
              "      <td>0.004498</td>\n",
              "      <td>0.0051</td>\n",
              "      <td>False</td>\n",
              "    </tr>\n",
              "    <tr>\n",
              "      <th>Event Driven</th>\n",
              "      <td>0.006344</td>\n",
              "      <td>0.0084</td>\n",
              "      <td>False</td>\n",
              "    </tr>\n",
              "    <tr>\n",
              "      <th>Fixed Income Arbitrage</th>\n",
              "      <td>0.004365</td>\n",
              "      <td>0.0055</td>\n",
              "      <td>False</td>\n",
              "    </tr>\n",
              "    <tr>\n",
              "      <th>Global Macro</th>\n",
              "      <td>0.005403</td>\n",
              "      <td>0.0038</td>\n",
              "      <td>True</td>\n",
              "    </tr>\n",
              "    <tr>\n",
              "      <th>Long/Short Equity</th>\n",
              "      <td>0.006331</td>\n",
              "      <td>0.0079</td>\n",
              "      <td>False</td>\n",
              "    </tr>\n",
              "    <tr>\n",
              "      <th>Merger Arbitrage</th>\n",
              "      <td>0.005356</td>\n",
              "      <td>0.0060</td>\n",
              "      <td>False</td>\n",
              "    </tr>\n",
              "    <tr>\n",
              "      <th>Relative Value</th>\n",
              "      <td>0.005792</td>\n",
              "      <td>0.0067</td>\n",
              "      <td>False</td>\n",
              "    </tr>\n",
              "    <tr>\n",
              "      <th>Short Selling</th>\n",
              "      <td>-0.001701</td>\n",
              "      <td>-0.0053</td>\n",
              "      <td>True</td>\n",
              "    </tr>\n",
              "    <tr>\n",
              "      <th>Funds Of Funds</th>\n",
              "      <td>0.004262</td>\n",
              "      <td>0.0052</td>\n",
              "      <td>False</td>\n",
              "    </tr>\n",
              "  </tbody>\n",
              "</table>\n",
              "</div>\n",
              "      <button class=\"colab-df-convert\" onclick=\"convertToInteractive('df-73a9b808-bc44-4337-98a7-da07d7d14af8')\"\n",
              "              title=\"Convert this dataframe to an interactive table.\"\n",
              "              style=\"display:none;\">\n",
              "        \n",
              "  <svg xmlns=\"http://www.w3.org/2000/svg\" height=\"24px\"viewBox=\"0 0 24 24\"\n",
              "       width=\"24px\">\n",
              "    <path d=\"M0 0h24v24H0V0z\" fill=\"none\"/>\n",
              "    <path d=\"M18.56 5.44l.94 2.06.94-2.06 2.06-.94-2.06-.94-.94-2.06-.94 2.06-2.06.94zm-11 1L8.5 8.5l.94-2.06 2.06-.94-2.06-.94L8.5 2.5l-.94 2.06-2.06.94zm10 10l.94 2.06.94-2.06 2.06-.94-2.06-.94-.94-2.06-.94 2.06-2.06.94z\"/><path d=\"M17.41 7.96l-1.37-1.37c-.4-.4-.92-.59-1.43-.59-.52 0-1.04.2-1.43.59L10.3 9.45l-7.72 7.72c-.78.78-.78 2.05 0 2.83L4 21.41c.39.39.9.59 1.41.59.51 0 1.02-.2 1.41-.59l7.78-7.78 2.81-2.81c.8-.78.8-2.07 0-2.86zM5.41 20L4 18.59l7.72-7.72 1.47 1.35L5.41 20z\"/>\n",
              "  </svg>\n",
              "      </button>\n",
              "      \n",
              "  <style>\n",
              "    .colab-df-container {\n",
              "      display:flex;\n",
              "      flex-wrap:wrap;\n",
              "      gap: 12px;\n",
              "    }\n",
              "\n",
              "    .colab-df-convert {\n",
              "      background-color: #E8F0FE;\n",
              "      border: none;\n",
              "      border-radius: 50%;\n",
              "      cursor: pointer;\n",
              "      display: none;\n",
              "      fill: #1967D2;\n",
              "      height: 32px;\n",
              "      padding: 0 0 0 0;\n",
              "      width: 32px;\n",
              "    }\n",
              "\n",
              "    .colab-df-convert:hover {\n",
              "      background-color: #E2EBFA;\n",
              "      box-shadow: 0px 1px 2px rgba(60, 64, 67, 0.3), 0px 1px 3px 1px rgba(60, 64, 67, 0.15);\n",
              "      fill: #174EA6;\n",
              "    }\n",
              "\n",
              "    [theme=dark] .colab-df-convert {\n",
              "      background-color: #3B4455;\n",
              "      fill: #D2E3FC;\n",
              "    }\n",
              "\n",
              "    [theme=dark] .colab-df-convert:hover {\n",
              "      background-color: #434B5C;\n",
              "      box-shadow: 0px 1px 3px 1px rgba(0, 0, 0, 0.15);\n",
              "      filter: drop-shadow(0px 1px 2px rgba(0, 0, 0, 0.3));\n",
              "      fill: #FFFFFF;\n",
              "    }\n",
              "  </style>\n",
              "\n",
              "      <script>\n",
              "        const buttonEl =\n",
              "          document.querySelector('#df-73a9b808-bc44-4337-98a7-da07d7d14af8 button.colab-df-convert');\n",
              "        buttonEl.style.display =\n",
              "          google.colab.kernel.accessAllowed ? 'block' : 'none';\n",
              "\n",
              "        async function convertToInteractive(key) {\n",
              "          const element = document.querySelector('#df-73a9b808-bc44-4337-98a7-da07d7d14af8');\n",
              "          const dataTable =\n",
              "            await google.colab.kernel.invokeFunction('convertToInteractive',\n",
              "                                                     [key], {});\n",
              "          if (!dataTable) return;\n",
              "\n",
              "          const docLinkHtml = 'Like what you see? Visit the ' +\n",
              "            '<a target=\"_blank\" href=https://colab.research.google.com/notebooks/data_table.ipynb>data table notebook</a>'\n",
              "            + ' to learn more about interactive tables.';\n",
              "          element.innerHTML = '';\n",
              "          dataTable['output_type'] = 'display_data';\n",
              "          await google.colab.output.renderOutput(dataTable, element);\n",
              "          const docLink = document.createElement('div');\n",
              "          docLink.innerHTML = docLinkHtml;\n",
              "          element.appendChild(docLink);\n",
              "        }\n",
              "      </script>\n",
              "    </div>\n",
              "  </div>\n",
              "  "
            ],
            "text/plain": [
              "                            Mean  Median  Mean>Median -> Left Skewed?\n",
              "Convertible Arbitrage   0.005508  0.0065                        False\n",
              "CTA Global              0.004074  0.0014                         True\n",
              "Distressed Securities   0.006946  0.0089                        False\n",
              "Emerging Markets        0.006253  0.0096                        False\n",
              "Equity Market Neutral   0.004498  0.0051                        False\n",
              "Event Driven            0.006344  0.0084                        False\n",
              "Fixed Income Arbitrage  0.004365  0.0055                        False\n",
              "Global Macro            0.005403  0.0038                         True\n",
              "Long/Short Equity       0.006331  0.0079                        False\n",
              "Merger Arbitrage        0.005356  0.0060                        False\n",
              "Relative Value          0.005792  0.0067                        False\n",
              "Short Selling          -0.001701 -0.0053                         True\n",
              "Funds Of Funds          0.004262  0.0052                        False"
            ]
          },
          "metadata": {},
          "execution_count": 152
        }
      ],
      "source": [
        "\"\"\"\n",
        "To compute mean, median and check is mean is greater than median for skewness\n",
        "    If Mean>Median => Right/Positively Skewed\n",
        "    If Mean<Median => Left/Negatively Skewed\n",
        "\"\"\"\n",
        "graph = pd.concat([hfi.mean(), hfi.median(), hfi.mean()>hfi.median()], axis=\"columns\")\n",
        "graph.columns = ['Mean', 'Median', 'Mean>Median -> Left Skewed?']\n",
        "graph"
      ]
    },
    {
      "cell_type": "markdown",
      "id": "d74d760b",
      "metadata": {
        "id": "d74d760b"
      },
      "source": [
        "### Skewness"
      ]
    },
    {
      "cell_type": "code",
      "execution_count": 153,
      "id": "17a17d49",
      "metadata": {
        "colab": {
          "base_uri": "https://localhost:8080/"
        },
        "id": "17a17d49",
        "outputId": "8ac0d034-81f0-4ec9-9eb1-6bb5d9576ac1"
      },
      "outputs": [
        {
          "output_type": "execute_result",
          "data": {
            "text/plain": [
              "Fixed Income Arbitrage   -3.940320\n",
              "Convertible Arbitrage    -2.639592\n",
              "Equity Market Neutral    -2.124435\n",
              "Relative Value           -1.815470\n",
              "Event Driven             -1.409154\n",
              "Merger Arbitrage         -1.320083\n",
              "Distressed Securities    -1.300842\n",
              "Emerging Markets         -1.167067\n",
              "Long/Short Equity        -0.390227\n",
              "Funds Of Funds           -0.361783\n",
              "CTA Global                0.173699\n",
              "Short Selling             0.767975\n",
              "Global Macro              0.982922\n",
              "dtype: float64"
            ]
          },
          "metadata": {},
          "execution_count": 153
        }
      ],
      "source": [
        "r = erk.get_hfi_returns()\n",
        "\n",
        "demeaned_r = r - r.mean()\n",
        "# Use the population standard deviation, so set dof=0\n",
        "sigma_r = r.std(ddof=0)\n",
        "exp = (demeaned_r**3).mean()\n",
        "skewness = exp/sigma_r**3\n",
        "skewness.sort_values()"
      ]
    },
    {
      "cell_type": "code",
      "execution_count": 154,
      "id": "d53b425c",
      "metadata": {
        "colab": {
          "base_uri": "https://localhost:8080/"
        },
        "id": "d53b425c",
        "outputId": "5833a66a-35f4-4129-bfa3-5717189f5cc7"
      },
      "outputs": [
        {
          "output_type": "execute_result",
          "data": {
            "text/plain": [
              "array([-2.63959223,  0.17369864, -1.30084204, -1.16706749, -2.12443538,\n",
              "       -1.40915356, -3.94032029,  0.98292188, -0.39022677, -1.32008333,\n",
              "       -1.81546975,  0.76797484, -0.36178308])"
            ]
          },
          "metadata": {},
          "execution_count": 154
        }
      ],
      "source": [
        "#Using scipy.stats\n",
        "import scipy.stats\n",
        "scipy.stats.skew(hfi)"
      ]
    },
    {
      "cell_type": "markdown",
      "id": "1a00acdf",
      "metadata": {
        "id": "1a00acdf"
      },
      "source": [
        "### Kurtosis"
      ]
    },
    {
      "cell_type": "code",
      "execution_count": 155,
      "id": "7f12cf4e",
      "metadata": {
        "colab": {
          "base_uri": "https://localhost:8080/"
        },
        "id": "7f12cf4e",
        "outputId": "2097ce72-bf82-4ad8-8e24-f4e3efe51f9a"
      },
      "outputs": [
        {
          "output_type": "execute_result",
          "data": {
            "text/plain": [
              "CTA Global                 2.952960\n",
              "Long/Short Equity          4.523893\n",
              "Global Macro               5.741679\n",
              "Short Selling              6.117772\n",
              "Funds Of Funds             7.070153\n",
              "Distressed Securities      7.889983\n",
              "Event Driven               8.035828\n",
              "Merger Arbitrage           8.738950\n",
              "Emerging Markets           9.250788\n",
              "Relative Value            12.121208\n",
              "Equity Market Neutral     17.218555\n",
              "Convertible Arbitrage     23.280834\n",
              "Fixed Income Arbitrage    29.842199\n",
              "dtype: float64"
            ]
          },
          "metadata": {},
          "execution_count": 155
        }
      ],
      "source": [
        "r = hfi\n",
        "demeaned_r = r - r.mean()\n",
        "# Use the population standard deviation, so set dof=0\n",
        "sigma_r = r.std(ddof=0)\n",
        "exp = (demeaned_r**4).mean()\n",
        "kurtosis = exp/sigma_r**4\n",
        "kurtosis.sort_values()"
      ]
    },
    {
      "cell_type": "code",
      "execution_count": 156,
      "id": "54964f8c",
      "metadata": {
        "colab": {
          "base_uri": "https://localhost:8080/"
        },
        "id": "54964f8c",
        "outputId": "e47442d9-b105-4cf3-c361-7e55367b3972"
      },
      "outputs": [
        {
          "output_type": "execute_result",
          "data": {
            "text/plain": [
              "array([20.28083446, -0.04703963,  4.88998336,  6.25078841, 14.21855526,\n",
              "        5.03582817, 26.84219928,  2.74167945,  1.52389258,  5.73894979,\n",
              "        9.12120787,  3.11777175,  4.07015278])"
            ]
          },
          "metadata": {},
          "execution_count": 156
        }
      ],
      "source": [
        "scipy.stats.kurtosis(hfi)"
      ]
    },
    {
      "cell_type": "markdown",
      "id": "b4426235",
      "metadata": {
        "id": "b4426235"
      },
      "source": [
        "### Jarque Bera test: Test for Normality based on Sample Skewness and Kurtosis\n",
        "\n",
        "If p_value > significanse level: Normal Distribution"
      ]
    },
    {
      "cell_type": "code",
      "execution_count": 157,
      "id": "3970ca2a",
      "metadata": {
        "colab": {
          "base_uri": "https://localhost:8080/"
        },
        "id": "3970ca2a",
        "outputId": "f1e3e0e5-d164-4999-cccb-eb0c7bd72676"
      },
      "outputs": [
        {
          "output_type": "execute_result",
          "data": {
            "text/plain": [
              "Convertible Arbitrage     False\n",
              "CTA Global                 True\n",
              "Distressed Securities     False\n",
              "Emerging Markets          False\n",
              "Equity Market Neutral     False\n",
              "Event Driven              False\n",
              "Fixed Income Arbitrage    False\n",
              "Global Macro              False\n",
              "Long/Short Equity         False\n",
              "Merger Arbitrage          False\n",
              "Relative Value            False\n",
              "Short Selling             False\n",
              "Funds Of Funds            False\n",
              "dtype: bool"
            ]
          },
          "metadata": {},
          "execution_count": 157
        }
      ],
      "source": [
        "level = 0.01\n",
        "\n",
        "statictics, p_value = scipy.stats.jarque_bera(hfi)\n",
        "p_value>level\n",
        "\n",
        "#True if Normal, else False\n",
        "hfi.aggregate(erk.is_normal)  #-> Apply is_normal function on each column of hfi"
      ]
    },
    {
      "cell_type": "code",
      "execution_count": 158,
      "id": "b76b2f54",
      "metadata": {
        "colab": {
          "base_uri": "https://localhost:8080/"
        },
        "id": "b76b2f54",
        "outputId": "88a5844d-95a5-46da-8286-0b17f934f538"
      },
      "outputs": [
        {
          "output_type": "execute_result",
          "data": {
            "text/plain": [
              "SmallCap    False\n",
              "LargeCap    False\n",
              "dtype: bool"
            ]
          },
          "metadata": {},
          "execution_count": 158
        }
      ],
      "source": [
        "ffme = erk.get_ffme_returns()\n",
        "erk.skewness(ffme)\n",
        "erk.kurtosis(ffme)\n",
        "erk.is_normal(ffme)\n",
        "\n",
        "#Check if Small Cap and Large Cap Funds follow Normal Distribution\n",
        "ffme.aggregate(erk.is_normal)"
      ]
    },
    {
      "cell_type": "markdown",
      "id": "003465bc",
      "metadata": {
        "id": "003465bc"
      },
      "source": [
        "### Semi Deviation\n",
        "Semi-deviation is a method of measuring the below-mean fluctuations in the returns on investment. Semi-deviation will reveal the worst-case performance to be expected from a risky investment."
      ]
    },
    {
      "cell_type": "code",
      "execution_count": 159,
      "id": "4c1e1961",
      "metadata": {
        "colab": {
          "base_uri": "https://localhost:8080/"
        },
        "id": "4c1e1961",
        "outputId": "5ee8b7fd-dfa6-4797-d2a7-ceb9ff2a4c5c"
      },
      "outputs": [
        {
          "output_type": "execute_result",
          "data": {
            "text/plain": [
              "Convertible Arbitrage     0.019540\n",
              "CTA Global                0.012443\n",
              "Distressed Securities     0.015185\n",
              "Emerging Markets          0.028039\n",
              "Equity Market Neutral     0.009566\n",
              "Event Driven              0.015429\n",
              "Fixed Income Arbitrage    0.017763\n",
              "Global Macro              0.006579\n",
              "Long/Short Equity         0.014051\n",
              "Merger Arbitrage          0.008875\n",
              "Relative Value            0.012244\n",
              "Short Selling             0.027283\n",
              "Funds Of Funds            0.012122\n",
              "dtype: float64"
            ]
          },
          "metadata": {},
          "execution_count": 159
        }
      ],
      "source": [
        "#Filter those returns that are less than 0 and compute standard deviations\n",
        "\n",
        "hfi[hfi<0].std(ddof=0)"
      ]
    },
    {
      "cell_type": "markdown",
      "id": "9666f711",
      "metadata": {
        "id": "9666f711"
      },
      "source": [
        "### VaR and CVaR\n",
        "Value at Risk: A statistic that quantifies the extent of possible financial losses within a firm, portfolio, or position over a specific time frame. \n",
        "For Example: An asset has a 3% one-month VaR of 2%, representing a 3% chance of the asset declining in value by 2% during the one-month time frame.\n",
        "\n",
        "Methods:\n",
        "- Historic VaR => Historical value at risk (VaR), also known as historical simulation or the historical method, refers to a particular way of calculating VaR. In this approach we calculate VaR directly from past returns. For example, suppose we want to calculate the 1-day 95% VaR for an equity using 100 days of data. The 95th percentile corresponds to the least worst of the worst 5% of returns. In this case, because we are using 100 days of data, the VaR simply corresponds to the 5th worst day\n",
        "\n",
        "- Parametric VaR - Gaussian\n",
        "    => The parametric method, also known as the variance-covariance method, is a risk management technique for calculating the VaR of a portfolio of assets that first identifies the mean, or expected value, and standard deviation of an investment portfolio. The parametric method looks at the price movements of investments over a look-back period and uses probability theory to compute a portfolio's maximum loss. \n",
        "- Modified Cornish-Fisher VaR"
      ]
    },
    {
      "cell_type": "code",
      "execution_count": 160,
      "id": "ec4dea2e",
      "metadata": {
        "colab": {
          "base_uri": "https://localhost:8080/"
        },
        "id": "ec4dea2e",
        "outputId": "64031391-7424-40b3-9fbb-4ed25abebdc8"
      },
      "outputs": [
        {
          "output_type": "execute_result",
          "data": {
            "text/plain": [
              "array([-0.01576, -0.03169, -0.01966, -0.04247, -0.00814, -0.02535,\n",
              "       -0.00787, -0.01499, -0.02598, -0.01047, -0.01174, -0.06783,\n",
              "       -0.02047])"
            ]
          },
          "metadata": {},
          "execution_count": 160
        }
      ],
      "source": [
        "#Historic Var\n",
        "\n",
        "np.percentile(hfi, 5, axis=0)\n",
        "\n",
        "#Interpretation for 1st entry: Convertible Arbitrage has 5% chance that in any given month, \n",
        "#you are going to lose about 1.576% or worse "
      ]
    },
    {
      "cell_type": "code",
      "execution_count": 161,
      "id": "948b3bd0",
      "metadata": {
        "colab": {
          "base_uri": "https://localhost:8080/"
        },
        "id": "948b3bd0",
        "outputId": "e5993785-ee9e-422c-c414-b29ef525ae66"
      },
      "outputs": [
        {
          "output_type": "execute_result",
          "data": {
            "text/plain": [
              "Convertible Arbitrage     0.00902\n",
              "CTA Global                0.02406\n",
              "Distressed Securities     0.01284\n",
              "Emerging Markets          0.03198\n",
              "Equity Market Neutral     0.00364\n",
              "Event Driven              0.01218\n",
              "Fixed Income Arbitrage    0.00338\n",
              "Global Macro              0.01024\n",
              "Long/Short Equity         0.01634\n",
              "Merger Arbitrage          0.00548\n",
              "Relative Value            0.00662\n",
              "Short Selling             0.05214\n",
              "Funds Of Funds            0.01318\n",
              "dtype: float64"
            ]
          },
          "metadata": {},
          "execution_count": 161
        }
      ],
      "source": [
        "#Compute Historic VaR for each column in dataset, default level 5%\n",
        "\n",
        "#For 10% Significanse Level\n",
        "erk.var_historic(hfi, 10)"
      ]
    },
    {
      "cell_type": "code",
      "execution_count": 162,
      "id": "7f5d6755",
      "metadata": {
        "id": "7f5d6755"
      },
      "outputs": [],
      "source": [
        "#Returns Z-Score for corresponding Significanse level\n",
        "\n",
        "z_score = norm.ppf(0.05)"
      ]
    },
    {
      "cell_type": "code",
      "execution_count": 163,
      "id": "9e1c467f",
      "metadata": {
        "colab": {
          "base_uri": "https://localhost:8080/"
        },
        "id": "9e1c467f",
        "outputId": "a799c157-34c4-49f2-bd54-c8d51c19c028"
      },
      "outputs": [
        {
          "output_type": "execute_result",
          "data": {
            "text/plain": [
              "Convertible Arbitrage     0.021691\n",
              "CTA Global                0.034235\n",
              "Distressed Securities     0.021032\n",
              "Emerging Markets          0.047164\n",
              "Equity Market Neutral     0.008850\n",
              "Event Driven              0.021144\n",
              "Fixed Income Arbitrage    0.014579\n",
              "Global Macro              0.018766\n",
              "Long/Short Equity         0.026397\n",
              "Merger Arbitrage          0.010435\n",
              "Relative Value            0.013061\n",
              "Short Selling             0.080086\n",
              "Funds Of Funds            0.021292\n",
              "dtype: float64"
            ]
          },
          "metadata": {},
          "execution_count": 163
        }
      ],
      "source": [
        "#Parametric VaR\n",
        "\n",
        "VaR = -(hfi.mean() + (z_score * hfi.std(ddof=0)))\n",
        "VaR"
      ]
    },
    {
      "cell_type": "code",
      "execution_count": 164,
      "id": "9c27061a",
      "metadata": {
        "colab": {
          "base_uri": "https://localhost:8080/"
        },
        "id": "9c27061a",
        "outputId": "48ed60b3-a43b-4035-e22d-1dfe6b9c41ab"
      },
      "outputs": [
        {
          "output_type": "execute_result",
          "data": {
            "text/plain": [
              "Convertible Arbitrage     0.025166\n",
              "CTA Global                0.033094\n",
              "Distressed Securities     0.025102\n",
              "Emerging Markets          0.053011\n",
              "Equity Market Neutral     0.010734\n",
              "Event Driven              0.025516\n",
              "Fixed Income Arbitrage    0.017881\n",
              "Global Macro              0.013581\n",
              "Long/Short Equity         0.027935\n",
              "Merger Arbitrage          0.012612\n",
              "Relative Value            0.016157\n",
              "Short Selling             0.066157\n",
              "Funds Of Funds            0.021576\n",
              "dtype: float64"
            ]
          },
          "metadata": {},
          "execution_count": 164
        }
      ],
      "source": [
        "#Cornish Fisher VaR\n",
        "\n",
        "\"\"\"\n",
        "Earlier, we calculated Z-Score assuming it's a normal distribution. But now we need to take\n",
        "Skewness and Kurtosis into account\n",
        "\"\"\"\n",
        "erk.var_gaussian(hfi, modified=True)"
      ]
    },
    {
      "cell_type": "code",
      "execution_count": 165,
      "id": "3a61efa9",
      "metadata": {
        "colab": {
          "base_uri": "https://localhost:8080/",
          "height": 457
        },
        "id": "3a61efa9",
        "outputId": "56ead763-37b4-4568-c1ea-ed2ff6fce09c"
      },
      "outputs": [
        {
          "output_type": "execute_result",
          "data": {
            "text/html": [
              "\n",
              "  <div id=\"df-cf551ea0-de0e-41db-9941-eb24778d3696\">\n",
              "    <div class=\"colab-df-container\">\n",
              "      <div>\n",
              "<style scoped>\n",
              "    .dataframe tbody tr th:only-of-type {\n",
              "        vertical-align: middle;\n",
              "    }\n",
              "\n",
              "    .dataframe tbody tr th {\n",
              "        vertical-align: top;\n",
              "    }\n",
              "\n",
              "    .dataframe thead th {\n",
              "        text-align: right;\n",
              "    }\n",
              "</style>\n",
              "<table border=\"1\" class=\"dataframe\">\n",
              "  <thead>\n",
              "    <tr style=\"text-align: right;\">\n",
              "      <th></th>\n",
              "      <th>Gaussian</th>\n",
              "      <th>Cornish-Fisher</th>\n",
              "      <th>Historic</th>\n",
              "    </tr>\n",
              "  </thead>\n",
              "  <tbody>\n",
              "    <tr>\n",
              "      <th>Convertible Arbitrage</th>\n",
              "      <td>0.021691</td>\n",
              "      <td>0.025166</td>\n",
              "      <td>0.01576</td>\n",
              "    </tr>\n",
              "    <tr>\n",
              "      <th>CTA Global</th>\n",
              "      <td>0.034235</td>\n",
              "      <td>0.033094</td>\n",
              "      <td>0.03169</td>\n",
              "    </tr>\n",
              "    <tr>\n",
              "      <th>Distressed Securities</th>\n",
              "      <td>0.021032</td>\n",
              "      <td>0.025102</td>\n",
              "      <td>0.01966</td>\n",
              "    </tr>\n",
              "    <tr>\n",
              "      <th>Emerging Markets</th>\n",
              "      <td>0.047164</td>\n",
              "      <td>0.053011</td>\n",
              "      <td>0.04247</td>\n",
              "    </tr>\n",
              "    <tr>\n",
              "      <th>Equity Market Neutral</th>\n",
              "      <td>0.008850</td>\n",
              "      <td>0.010734</td>\n",
              "      <td>0.00814</td>\n",
              "    </tr>\n",
              "    <tr>\n",
              "      <th>Event Driven</th>\n",
              "      <td>0.021144</td>\n",
              "      <td>0.025516</td>\n",
              "      <td>0.02535</td>\n",
              "    </tr>\n",
              "    <tr>\n",
              "      <th>Fixed Income Arbitrage</th>\n",
              "      <td>0.014579</td>\n",
              "      <td>0.017881</td>\n",
              "      <td>0.00787</td>\n",
              "    </tr>\n",
              "    <tr>\n",
              "      <th>Global Macro</th>\n",
              "      <td>0.018766</td>\n",
              "      <td>0.013581</td>\n",
              "      <td>0.01499</td>\n",
              "    </tr>\n",
              "    <tr>\n",
              "      <th>Long/Short Equity</th>\n",
              "      <td>0.026397</td>\n",
              "      <td>0.027935</td>\n",
              "      <td>0.02598</td>\n",
              "    </tr>\n",
              "    <tr>\n",
              "      <th>Merger Arbitrage</th>\n",
              "      <td>0.010435</td>\n",
              "      <td>0.012612</td>\n",
              "      <td>0.01047</td>\n",
              "    </tr>\n",
              "    <tr>\n",
              "      <th>Relative Value</th>\n",
              "      <td>0.013061</td>\n",
              "      <td>0.016157</td>\n",
              "      <td>0.01174</td>\n",
              "    </tr>\n",
              "    <tr>\n",
              "      <th>Short Selling</th>\n",
              "      <td>0.080086</td>\n",
              "      <td>0.066157</td>\n",
              "      <td>0.06783</td>\n",
              "    </tr>\n",
              "    <tr>\n",
              "      <th>Funds Of Funds</th>\n",
              "      <td>0.021292</td>\n",
              "      <td>0.021576</td>\n",
              "      <td>0.02047</td>\n",
              "    </tr>\n",
              "  </tbody>\n",
              "</table>\n",
              "</div>\n",
              "      <button class=\"colab-df-convert\" onclick=\"convertToInteractive('df-cf551ea0-de0e-41db-9941-eb24778d3696')\"\n",
              "              title=\"Convert this dataframe to an interactive table.\"\n",
              "              style=\"display:none;\">\n",
              "        \n",
              "  <svg xmlns=\"http://www.w3.org/2000/svg\" height=\"24px\"viewBox=\"0 0 24 24\"\n",
              "       width=\"24px\">\n",
              "    <path d=\"M0 0h24v24H0V0z\" fill=\"none\"/>\n",
              "    <path d=\"M18.56 5.44l.94 2.06.94-2.06 2.06-.94-2.06-.94-.94-2.06-.94 2.06-2.06.94zm-11 1L8.5 8.5l.94-2.06 2.06-.94-2.06-.94L8.5 2.5l-.94 2.06-2.06.94zm10 10l.94 2.06.94-2.06 2.06-.94-2.06-.94-.94-2.06-.94 2.06-2.06.94z\"/><path d=\"M17.41 7.96l-1.37-1.37c-.4-.4-.92-.59-1.43-.59-.52 0-1.04.2-1.43.59L10.3 9.45l-7.72 7.72c-.78.78-.78 2.05 0 2.83L4 21.41c.39.39.9.59 1.41.59.51 0 1.02-.2 1.41-.59l7.78-7.78 2.81-2.81c.8-.78.8-2.07 0-2.86zM5.41 20L4 18.59l7.72-7.72 1.47 1.35L5.41 20z\"/>\n",
              "  </svg>\n",
              "      </button>\n",
              "      \n",
              "  <style>\n",
              "    .colab-df-container {\n",
              "      display:flex;\n",
              "      flex-wrap:wrap;\n",
              "      gap: 12px;\n",
              "    }\n",
              "\n",
              "    .colab-df-convert {\n",
              "      background-color: #E8F0FE;\n",
              "      border: none;\n",
              "      border-radius: 50%;\n",
              "      cursor: pointer;\n",
              "      display: none;\n",
              "      fill: #1967D2;\n",
              "      height: 32px;\n",
              "      padding: 0 0 0 0;\n",
              "      width: 32px;\n",
              "    }\n",
              "\n",
              "    .colab-df-convert:hover {\n",
              "      background-color: #E2EBFA;\n",
              "      box-shadow: 0px 1px 2px rgba(60, 64, 67, 0.3), 0px 1px 3px 1px rgba(60, 64, 67, 0.15);\n",
              "      fill: #174EA6;\n",
              "    }\n",
              "\n",
              "    [theme=dark] .colab-df-convert {\n",
              "      background-color: #3B4455;\n",
              "      fill: #D2E3FC;\n",
              "    }\n",
              "\n",
              "    [theme=dark] .colab-df-convert:hover {\n",
              "      background-color: #434B5C;\n",
              "      box-shadow: 0px 1px 3px 1px rgba(0, 0, 0, 0.15);\n",
              "      filter: drop-shadow(0px 1px 2px rgba(0, 0, 0, 0.3));\n",
              "      fill: #FFFFFF;\n",
              "    }\n",
              "  </style>\n",
              "\n",
              "      <script>\n",
              "        const buttonEl =\n",
              "          document.querySelector('#df-cf551ea0-de0e-41db-9941-eb24778d3696 button.colab-df-convert');\n",
              "        buttonEl.style.display =\n",
              "          google.colab.kernel.accessAllowed ? 'block' : 'none';\n",
              "\n",
              "        async function convertToInteractive(key) {\n",
              "          const element = document.querySelector('#df-cf551ea0-de0e-41db-9941-eb24778d3696');\n",
              "          const dataTable =\n",
              "            await google.colab.kernel.invokeFunction('convertToInteractive',\n",
              "                                                     [key], {});\n",
              "          if (!dataTable) return;\n",
              "\n",
              "          const docLinkHtml = 'Like what you see? Visit the ' +\n",
              "            '<a target=\"_blank\" href=https://colab.research.google.com/notebooks/data_table.ipynb>data table notebook</a>'\n",
              "            + ' to learn more about interactive tables.';\n",
              "          element.innerHTML = '';\n",
              "          dataTable['output_type'] = 'display_data';\n",
              "          await google.colab.output.renderOutput(dataTable, element);\n",
              "          const docLink = document.createElement('div');\n",
              "          docLink.innerHTML = docLinkHtml;\n",
              "          element.appendChild(docLink);\n",
              "        }\n",
              "      </script>\n",
              "    </div>\n",
              "  </div>\n",
              "  "
            ],
            "text/plain": [
              "                        Gaussian  Cornish-Fisher  Historic\n",
              "Convertible Arbitrage   0.021691        0.025166   0.01576\n",
              "CTA Global              0.034235        0.033094   0.03169\n",
              "Distressed Securities   0.021032        0.025102   0.01966\n",
              "Emerging Markets        0.047164        0.053011   0.04247\n",
              "Equity Market Neutral   0.008850        0.010734   0.00814\n",
              "Event Driven            0.021144        0.025516   0.02535\n",
              "Fixed Income Arbitrage  0.014579        0.017881   0.00787\n",
              "Global Macro            0.018766        0.013581   0.01499\n",
              "Long/Short Equity       0.026397        0.027935   0.02598\n",
              "Merger Arbitrage        0.010435        0.012612   0.01047\n",
              "Relative Value          0.013061        0.016157   0.01174\n",
              "Short Selling           0.080086        0.066157   0.06783\n",
              "Funds Of Funds          0.021292        0.021576   0.02047"
            ]
          },
          "metadata": {},
          "execution_count": 165
        }
      ],
      "source": [
        "#Comparison between all three methods\n",
        "var_list = [erk.var_gaussian(hfi), erk.var_gaussian(hfi, modified=True), erk.var_historic(hfi)]\n",
        "comparison = pd.concat(var_list, axis=1)\n",
        "comparison.columns = ['Gaussian', 'Cornish-Fisher', 'Historic']\n",
        "comparison"
      ]
    },
    {
      "cell_type": "code",
      "execution_count": 166,
      "id": "9d81faf2",
      "metadata": {
        "colab": {
          "base_uri": "https://localhost:8080/",
          "height": 404
        },
        "id": "9d81faf2",
        "outputId": "5bf05429-51e1-497b-b804-199d16e22bfe"
      },
      "outputs": [
        {
          "output_type": "execute_result",
          "data": {
            "text/plain": [
              "<matplotlib.axes._subplots.AxesSubplot at 0x7f28922b0750>"
            ]
          },
          "metadata": {},
          "execution_count": 166
        },
        {
          "output_type": "display_data",
          "data": {
            "image/png": "[encoded data removed]",
            "text/plain": [
              "<Figure size 432x288 with 1 Axes>"
            ]
          },
          "metadata": {
            "needs_background": "light"
          }
        }
      ],
      "source": [
        "comparison.plot.bar(title=\"EDHC Hedge Fund Indices: VaR\")"
      ]
    },
    {
      "cell_type": "markdown",
      "id": "592dcce9",
      "metadata": {
        "id": "592dcce9"
      },
      "source": [
        "### Beyond Var: CVaR\n",
        "Generally speaking, if an investment has shown stability over time, then the value at risk may be sufficient for risk management in a portfolio containing that investment. However, the less stable the investment, the greater the chance that VaR will not give a full picture of the risks, as it is indifferent to anything beyond its own threshold.\n",
        "\n",
        "Conditional Value at Risk (CVaR) attempts to address the shortcomings of the VaR model, which is a statistical technique used to measure the level of financial risk within a firm or an investment portfolio over a specific time frame. While VaR represents a worst-case loss associated with a probability and a time horizon, CVaR is the expected loss if that worst-case threshold is ever crossed. CVaR, in other words, quantifies the expected losses that occur beyond the VaR breakpoint."
      ]
    },
    {
      "cell_type": "code",
      "execution_count": 167,
      "id": "c35af673",
      "metadata": {
        "colab": {
          "base_uri": "https://localhost:8080/"
        },
        "id": "c35af673",
        "outputId": "fad2a6f5-0b30-41ce-93ee-617afc45c8c2"
      },
      "outputs": [
        {
          "output_type": "execute_result",
          "data": {
            "text/plain": [
              "Convertible Arbitrage     0.036550\n",
              "CTA Global                0.041264\n",
              "Distressed Securities     0.036429\n",
              "Emerging Markets          0.072364\n",
              "Equity Market Neutral     0.016879\n",
              "Event Driven              0.038336\n",
              "Fixed Income Arbitrage    0.028257\n",
              "Global Macro              0.020629\n",
              "Long/Short Equity         0.041943\n",
              "Merger Arbitrage          0.019143\n",
              "Relative Value            0.024650\n",
              "Short Selling             0.096821\n",
              "Funds Of Funds            0.033207\n",
              "dtype: float64"
            ]
          },
          "metadata": {},
          "execution_count": 167
        }
      ],
      "source": [
        "erk.cvar_historic(hfi)"
      ]
    },
    {
      "cell_type": "markdown",
      "id": "b21bdd45",
      "metadata": {
        "id": "b21bdd45"
      },
      "source": [
        "## Efficient Frontier\n",
        "The efficient frontier is the set of optimal portfolios that offer the highest expected return for a defined level of risk or the lowest risk for a given level of expected return. Portfolios that lie below the efficient frontier are sub-optimal because they do not provide enough return for the level of risk. Portfolios that cluster to the right of the efficient frontier are sub-optimal because they have a higher level of risk for the defined rate of return."
      ]
    },
    {
      "cell_type": "code",
      "execution_count": 170,
      "id": "98207163",
      "metadata": {
        "colab": {
          "base_uri": "https://localhost:8080/",
          "height": 487
        },
        "id": "98207163",
        "outputId": "23574510-c06d-4030-bbba-5d01deef7a7b"
      },
      "outputs": [
        {
          "output_type": "execute_result",
          "data": {
            "text/html": [
              "\n",
              "  <div id=\"df-c451135d-74ea-4057-aed0-c74fbadeb574\">\n",
              "    <div class=\"colab-df-container\">\n",
              "      <div>\n",
              "<style scoped>\n",
              "    .dataframe tbody tr th:only-of-type {\n",
              "        vertical-align: middle;\n",
              "    }\n",
              "\n",
              "    .dataframe tbody tr th {\n",
              "        vertical-align: top;\n",
              "    }\n",
              "\n",
              "    .dataframe thead th {\n",
              "        text-align: right;\n",
              "    }\n",
              "</style>\n",
              "<table border=\"1\" class=\"dataframe\">\n",
              "  <thead>\n",
              "    <tr style=\"text-align: right;\">\n",
              "      <th></th>\n",
              "      <th>Food</th>\n",
              "      <th>Beer</th>\n",
              "      <th>Smoke</th>\n",
              "      <th>Games</th>\n",
              "      <th>Books</th>\n",
              "      <th>Hshld</th>\n",
              "      <th>Clths</th>\n",
              "      <th>Hlth</th>\n",
              "      <th>Chems</th>\n",
              "      <th>Txtls</th>\n",
              "      <th>Cnstr</th>\n",
              "      <th>Steel</th>\n",
              "      <th>FabPr</th>\n",
              "      <th>ElcEq</th>\n",
              "      <th>Autos</th>\n",
              "      <th>Carry</th>\n",
              "      <th>Mines</th>\n",
              "      <th>Coal</th>\n",
              "      <th>Oil</th>\n",
              "      <th>Util</th>\n",
              "      <th>Telcm</th>\n",
              "      <th>Servs</th>\n",
              "      <th>BusEq</th>\n",
              "      <th>Paper</th>\n",
              "      <th>Trans</th>\n",
              "      <th>Whlsl</th>\n",
              "      <th>Rtail</th>\n",
              "      <th>Meals</th>\n",
              "      <th>Fin</th>\n",
              "      <th>Other</th>\n",
              "    </tr>\n",
              "  </thead>\n",
              "  <tbody>\n",
              "    <tr>\n",
              "      <th>192607</th>\n",
              "      <td>0.0056</td>\n",
              "      <td>-0.0519</td>\n",
              "      <td>0.0129</td>\n",
              "      <td>0.0293</td>\n",
              "      <td>0.1097</td>\n",
              "      <td>-0.0048</td>\n",
              "      <td>0.0808</td>\n",
              "      <td>0.0177</td>\n",
              "      <td>0.0814</td>\n",
              "      <td>0.0039</td>\n",
              "      <td>0.0207</td>\n",
              "      <td>0.0407</td>\n",
              "      <td>0.0543</td>\n",
              "      <td>0.0318</td>\n",
              "      <td>0.1639</td>\n",
              "      <td>0.0102</td>\n",
              "      <td>0.0564</td>\n",
              "      <td>0.0154</td>\n",
              "      <td>-0.0140</td>\n",
              "      <td>0.0704</td>\n",
              "      <td>0.0083</td>\n",
              "      <td>0.0922</td>\n",
              "      <td>0.0206</td>\n",
              "      <td>0.0770</td>\n",
              "      <td>0.0193</td>\n",
              "      <td>-0.2379</td>\n",
              "      <td>0.0007</td>\n",
              "      <td>0.0187</td>\n",
              "      <td>0.0037</td>\n",
              "      <td>0.0520</td>\n",
              "    </tr>\n",
              "    <tr>\n",
              "      <th>192608</th>\n",
              "      <td>0.0259</td>\n",
              "      <td>0.2703</td>\n",
              "      <td>0.0650</td>\n",
              "      <td>0.0055</td>\n",
              "      <td>0.1001</td>\n",
              "      <td>-0.0358</td>\n",
              "      <td>-0.0251</td>\n",
              "      <td>0.0425</td>\n",
              "      <td>0.0550</td>\n",
              "      <td>0.0814</td>\n",
              "      <td>0.0472</td>\n",
              "      <td>0.0217</td>\n",
              "      <td>0.0206</td>\n",
              "      <td>0.0210</td>\n",
              "      <td>0.0423</td>\n",
              "      <td>0.0166</td>\n",
              "      <td>0.0055</td>\n",
              "      <td>0.0085</td>\n",
              "      <td>0.0369</td>\n",
              "      <td>-0.0169</td>\n",
              "      <td>0.0217</td>\n",
              "      <td>0.0202</td>\n",
              "      <td>0.0439</td>\n",
              "      <td>-0.0238</td>\n",
              "      <td>0.0488</td>\n",
              "      <td>0.0539</td>\n",
              "      <td>-0.0075</td>\n",
              "      <td>-0.0013</td>\n",
              "      <td>0.0446</td>\n",
              "      <td>0.0676</td>\n",
              "    </tr>\n",
              "    <tr>\n",
              "      <th>192609</th>\n",
              "      <td>0.0116</td>\n",
              "      <td>0.0402</td>\n",
              "      <td>0.0126</td>\n",
              "      <td>0.0658</td>\n",
              "      <td>-0.0099</td>\n",
              "      <td>0.0073</td>\n",
              "      <td>-0.0051</td>\n",
              "      <td>0.0069</td>\n",
              "      <td>0.0533</td>\n",
              "      <td>0.0231</td>\n",
              "      <td>-0.0050</td>\n",
              "      <td>0.0015</td>\n",
              "      <td>0.0036</td>\n",
              "      <td>-0.0056</td>\n",
              "      <td>0.0483</td>\n",
              "      <td>0.0273</td>\n",
              "      <td>0.0174</td>\n",
              "      <td>0.0030</td>\n",
              "      <td>-0.0369</td>\n",
              "      <td>0.0204</td>\n",
              "      <td>0.0241</td>\n",
              "      <td>0.0225</td>\n",
              "      <td>0.0019</td>\n",
              "      <td>-0.0554</td>\n",
              "      <td>0.0005</td>\n",
              "      <td>-0.0787</td>\n",
              "      <td>0.0025</td>\n",
              "      <td>-0.0056</td>\n",
              "      <td>-0.0123</td>\n",
              "      <td>-0.0386</td>\n",
              "    </tr>\n",
              "    <tr>\n",
              "      <th>192610</th>\n",
              "      <td>-0.0306</td>\n",
              "      <td>-0.0331</td>\n",
              "      <td>0.0106</td>\n",
              "      <td>-0.0476</td>\n",
              "      <td>0.0947</td>\n",
              "      <td>-0.0468</td>\n",
              "      <td>0.0012</td>\n",
              "      <td>-0.0057</td>\n",
              "      <td>-0.0476</td>\n",
              "      <td>0.0100</td>\n",
              "      <td>-0.0455</td>\n",
              "      <td>-0.0385</td>\n",
              "      <td>0.0111</td>\n",
              "      <td>-0.0573</td>\n",
              "      <td>-0.0793</td>\n",
              "      <td>-0.0556</td>\n",
              "      <td>-0.0320</td>\n",
              "      <td>0.0223</td>\n",
              "      <td>-0.0104</td>\n",
              "      <td>-0.0263</td>\n",
              "      <td>-0.0011</td>\n",
              "      <td>-0.0200</td>\n",
              "      <td>-0.0109</td>\n",
              "      <td>-0.0508</td>\n",
              "      <td>-0.0264</td>\n",
              "      <td>-0.1538</td>\n",
              "      <td>-0.0220</td>\n",
              "      <td>-0.0411</td>\n",
              "      <td>-0.0516</td>\n",
              "      <td>-0.0849</td>\n",
              "    </tr>\n",
              "    <tr>\n",
              "      <th>192611</th>\n",
              "      <td>0.0635</td>\n",
              "      <td>0.0729</td>\n",
              "      <td>0.0455</td>\n",
              "      <td>0.0166</td>\n",
              "      <td>-0.0580</td>\n",
              "      <td>-0.0054</td>\n",
              "      <td>0.0187</td>\n",
              "      <td>0.0542</td>\n",
              "      <td>0.0520</td>\n",
              "      <td>0.0311</td>\n",
              "      <td>0.0220</td>\n",
              "      <td>0.0386</td>\n",
              "      <td>0.0318</td>\n",
              "      <td>0.0508</td>\n",
              "      <td>-0.0066</td>\n",
              "      <td>0.0787</td>\n",
              "      <td>0.0846</td>\n",
              "      <td>-0.0048</td>\n",
              "      <td>0.0006</td>\n",
              "      <td>0.0371</td>\n",
              "      <td>0.0163</td>\n",
              "      <td>0.0377</td>\n",
              "      <td>0.0364</td>\n",
              "      <td>0.0384</td>\n",
              "      <td>0.0160</td>\n",
              "      <td>0.0467</td>\n",
              "      <td>0.0652</td>\n",
              "      <td>0.0433</td>\n",
              "      <td>0.0224</td>\n",
              "      <td>0.0400</td>\n",
              "    </tr>\n",
              "    <tr>\n",
              "      <th>...</th>\n",
              "      <td>...</td>\n",
              "      <td>...</td>\n",
              "      <td>...</td>\n",
              "      <td>...</td>\n",
              "      <td>...</td>\n",
              "      <td>...</td>\n",
              "      <td>...</td>\n",
              "      <td>...</td>\n",
              "      <td>...</td>\n",
              "      <td>...</td>\n",
              "      <td>...</td>\n",
              "      <td>...</td>\n",
              "      <td>...</td>\n",
              "      <td>...</td>\n",
              "      <td>...</td>\n",
              "      <td>...</td>\n",
              "      <td>...</td>\n",
              "      <td>...</td>\n",
              "      <td>...</td>\n",
              "      <td>...</td>\n",
              "      <td>...</td>\n",
              "      <td>...</td>\n",
              "      <td>...</td>\n",
              "      <td>...</td>\n",
              "      <td>...</td>\n",
              "      <td>...</td>\n",
              "      <td>...</td>\n",
              "      <td>...</td>\n",
              "      <td>...</td>\n",
              "      <td>...</td>\n",
              "    </tr>\n",
              "    <tr>\n",
              "      <th>201808</th>\n",
              "      <td>-0.0038</td>\n",
              "      <td>-0.0186</td>\n",
              "      <td>-0.0543</td>\n",
              "      <td>0.0289</td>\n",
              "      <td>-0.0447</td>\n",
              "      <td>0.0254</td>\n",
              "      <td>0.0526</td>\n",
              "      <td>0.0446</td>\n",
              "      <td>0.0001</td>\n",
              "      <td>0.0380</td>\n",
              "      <td>0.0049</td>\n",
              "      <td>-0.0323</td>\n",
              "      <td>-0.0194</td>\n",
              "      <td>0.0054</td>\n",
              "      <td>-0.0174</td>\n",
              "      <td>-0.0217</td>\n",
              "      <td>-0.1075</td>\n",
              "      <td>-0.0051</td>\n",
              "      <td>-0.0295</td>\n",
              "      <td>0.0091</td>\n",
              "      <td>0.0295</td>\n",
              "      <td>0.0524</td>\n",
              "      <td>0.0993</td>\n",
              "      <td>-0.0034</td>\n",
              "      <td>0.0291</td>\n",
              "      <td>0.0366</td>\n",
              "      <td>0.0911</td>\n",
              "      <td>0.0364</td>\n",
              "      <td>0.0245</td>\n",
              "      <td>0.0299</td>\n",
              "    </tr>\n",
              "    <tr>\n",
              "      <th>201809</th>\n",
              "      <td>-0.0032</td>\n",
              "      <td>0.0019</td>\n",
              "      <td>0.0537</td>\n",
              "      <td>-0.0009</td>\n",
              "      <td>-0.0221</td>\n",
              "      <td>0.0107</td>\n",
              "      <td>0.0130</td>\n",
              "      <td>0.0199</td>\n",
              "      <td>-0.0287</td>\n",
              "      <td>-0.0638</td>\n",
              "      <td>-0.0296</td>\n",
              "      <td>-0.0067</td>\n",
              "      <td>0.0088</td>\n",
              "      <td>0.0094</td>\n",
              "      <td>-0.0502</td>\n",
              "      <td>0.0645</td>\n",
              "      <td>-0.0173</td>\n",
              "      <td>-0.0538</td>\n",
              "      <td>0.0356</td>\n",
              "      <td>-0.0055</td>\n",
              "      <td>0.0174</td>\n",
              "      <td>-0.0037</td>\n",
              "      <td>-0.0033</td>\n",
              "      <td>-0.0030</td>\n",
              "      <td>0.0105</td>\n",
              "      <td>-0.0148</td>\n",
              "      <td>0.0061</td>\n",
              "      <td>0.0251</td>\n",
              "      <td>-0.0193</td>\n",
              "      <td>0.0116</td>\n",
              "    </tr>\n",
              "    <tr>\n",
              "      <th>201810</th>\n",
              "      <td>0.0102</td>\n",
              "      <td>-0.0157</td>\n",
              "      <td>0.0790</td>\n",
              "      <td>-0.1596</td>\n",
              "      <td>-0.0666</td>\n",
              "      <td>-0.0051</td>\n",
              "      <td>-0.1014</td>\n",
              "      <td>-0.0884</td>\n",
              "      <td>-0.1250</td>\n",
              "      <td>-0.2579</td>\n",
              "      <td>-0.1316</td>\n",
              "      <td>-0.1161</td>\n",
              "      <td>-0.1379</td>\n",
              "      <td>-0.1364</td>\n",
              "      <td>0.0087</td>\n",
              "      <td>-0.0936</td>\n",
              "      <td>-0.1032</td>\n",
              "      <td>0.0147</td>\n",
              "      <td>-0.1206</td>\n",
              "      <td>-0.0006</td>\n",
              "      <td>-0.0050</td>\n",
              "      <td>-0.0920</td>\n",
              "      <td>-0.0806</td>\n",
              "      <td>-0.0982</td>\n",
              "      <td>-0.0975</td>\n",
              "      <td>-0.0788</td>\n",
              "      <td>-0.1021</td>\n",
              "      <td>-0.0171</td>\n",
              "      <td>-0.0545</td>\n",
              "      <td>-0.0599</td>\n",
              "    </tr>\n",
              "    <tr>\n",
              "      <th>201811</th>\n",
              "      <td>0.0272</td>\n",
              "      <td>0.0579</td>\n",
              "      <td>-0.0843</td>\n",
              "      <td>-0.0065</td>\n",
              "      <td>0.0325</td>\n",
              "      <td>0.0644</td>\n",
              "      <td>-0.0099</td>\n",
              "      <td>0.0632</td>\n",
              "      <td>0.0496</td>\n",
              "      <td>0.0292</td>\n",
              "      <td>0.0364</td>\n",
              "      <td>-0.0300</td>\n",
              "      <td>0.0706</td>\n",
              "      <td>0.0512</td>\n",
              "      <td>0.0376</td>\n",
              "      <td>0.0077</td>\n",
              "      <td>-0.0095</td>\n",
              "      <td>-0.1414</td>\n",
              "      <td>-0.0233</td>\n",
              "      <td>0.0327</td>\n",
              "      <td>0.0254</td>\n",
              "      <td>0.0129</td>\n",
              "      <td>-0.0505</td>\n",
              "      <td>0.0822</td>\n",
              "      <td>0.0617</td>\n",
              "      <td>0.0318</td>\n",
              "      <td>0.0159</td>\n",
              "      <td>0.0616</td>\n",
              "      <td>0.0289</td>\n",
              "      <td>0.0348</td>\n",
              "    </tr>\n",
              "    <tr>\n",
              "      <th>201812</th>\n",
              "      <td>-0.0973</td>\n",
              "      <td>-0.0969</td>\n",
              "      <td>-0.1580</td>\n",
              "      <td>-0.0824</td>\n",
              "      <td>-0.1535</td>\n",
              "      <td>-0.0557</td>\n",
              "      <td>-0.0728</td>\n",
              "      <td>-0.0840</td>\n",
              "      <td>-0.0776</td>\n",
              "      <td>-0.1009</td>\n",
              "      <td>-0.1106</td>\n",
              "      <td>-0.1478</td>\n",
              "      <td>-0.0979</td>\n",
              "      <td>-0.1159</td>\n",
              "      <td>-0.1130</td>\n",
              "      <td>-0.1066</td>\n",
              "      <td>-0.0706</td>\n",
              "      <td>-0.0207</td>\n",
              "      <td>-0.1325</td>\n",
              "      <td>-0.0475</td>\n",
              "      <td>-0.0884</td>\n",
              "      <td>-0.0765</td>\n",
              "      <td>-0.0923</td>\n",
              "      <td>-0.0863</td>\n",
              "      <td>-0.1519</td>\n",
              "      <td>-0.1121</td>\n",
              "      <td>-0.0919</td>\n",
              "      <td>-0.0628</td>\n",
              "      <td>-0.1144</td>\n",
              "      <td>-0.0693</td>\n",
              "    </tr>\n",
              "  </tbody>\n",
              "</table>\n",
              "<p>1110 rows × 30 columns</p>\n",
              "</div>\n",
              "      <button class=\"colab-df-convert\" onclick=\"convertToInteractive('df-c451135d-74ea-4057-aed0-c74fbadeb574')\"\n",
              "              title=\"Convert this dataframe to an interactive table.\"\n",
              "              style=\"display:none;\">\n",
              "        \n",
              "  <svg xmlns=\"http://www.w3.org/2000/svg\" height=\"24px\"viewBox=\"0 0 24 24\"\n",
              "       width=\"24px\">\n",
              "    <path d=\"M0 0h24v24H0V0z\" fill=\"none\"/>\n",
              "    <path d=\"M18.56 5.44l.94 2.06.94-2.06 2.06-.94-2.06-.94-.94-2.06-.94 2.06-2.06.94zm-11 1L8.5 8.5l.94-2.06 2.06-.94-2.06-.94L8.5 2.5l-.94 2.06-2.06.94zm10 10l.94 2.06.94-2.06 2.06-.94-2.06-.94-.94-2.06-.94 2.06-2.06.94z\"/><path d=\"M17.41 7.96l-1.37-1.37c-.4-.4-.92-.59-1.43-.59-.52 0-1.04.2-1.43.59L10.3 9.45l-7.72 7.72c-.78.78-.78 2.05 0 2.83L4 21.41c.39.39.9.59 1.41.59.51 0 1.02-.2 1.41-.59l7.78-7.78 2.81-2.81c.8-.78.8-2.07 0-2.86zM5.41 20L4 18.59l7.72-7.72 1.47 1.35L5.41 20z\"/>\n",
              "  </svg>\n",
              "      </button>\n",
              "      \n",
              "  <style>\n",
              "    .colab-df-container {\n",
              "      display:flex;\n",
              "      flex-wrap:wrap;\n",
              "      gap: 12px;\n",
              "    }\n",
              "\n",
              "    .colab-df-convert {\n",
              "      background-color: #E8F0FE;\n",
              "      border: none;\n",
              "      border-radius: 50%;\n",
              "      cursor: pointer;\n",
              "      display: none;\n",
              "      fill: #1967D2;\n",
              "      height: 32px;\n",
              "      padding: 0 0 0 0;\n",
              "      width: 32px;\n",
              "    }\n",
              "\n",
              "    .colab-df-convert:hover {\n",
              "      background-color: #E2EBFA;\n",
              "      box-shadow: 0px 1px 2px rgba(60, 64, 67, 0.3), 0px 1px 3px 1px rgba(60, 64, 67, 0.15);\n",
              "      fill: #174EA6;\n",
              "    }\n",
              "\n",
              "    [theme=dark] .colab-df-convert {\n",
              "      background-color: #3B4455;\n",
              "      fill: #D2E3FC;\n",
              "    }\n",
              "\n",
              "    [theme=dark] .colab-df-convert:hover {\n",
              "      background-color: #434B5C;\n",
              "      box-shadow: 0px 1px 3px 1px rgba(0, 0, 0, 0.15);\n",
              "      filter: drop-shadow(0px 1px 2px rgba(0, 0, 0, 0.3));\n",
              "      fill: #FFFFFF;\n",
              "    }\n",
              "  </style>\n",
              "\n",
              "      <script>\n",
              "        const buttonEl =\n",
              "          document.querySelector('#df-c451135d-74ea-4057-aed0-c74fbadeb574 button.colab-df-convert');\n",
              "        buttonEl.style.display =\n",
              "          google.colab.kernel.accessAllowed ? 'block' : 'none';\n",
              "\n",
              "        async function convertToInteractive(key) {\n",
              "          const element = document.querySelector('#df-c451135d-74ea-4057-aed0-c74fbadeb574');\n",
              "          const dataTable =\n",
              "            await google.colab.kernel.invokeFunction('convertToInteractive',\n",
              "                                                     [key], {});\n",
              "          if (!dataTable) return;\n",
              "\n",
              "          const docLinkHtml = 'Like what you see? Visit the ' +\n",
              "            '<a target=\"_blank\" href=https://colab.research.google.com/notebooks/data_table.ipynb>data table notebook</a>'\n",
              "            + ' to learn more about interactive tables.';\n",
              "          element.innerHTML = '';\n",
              "          dataTable['output_type'] = 'display_data';\n",
              "          await google.colab.output.renderOutput(dataTable, element);\n",
              "          const docLink = document.createElement('div');\n",
              "          docLink.innerHTML = docLinkHtml;\n",
              "          element.appendChild(docLink);\n",
              "        }\n",
              "      </script>\n",
              "    </div>\n",
              "  </div>\n",
              "  "
            ],
            "text/plain": [
              "         Food    Beer    Smoke   Games  ...   Rtail   Meals   Fin     Other\n",
              "192607  0.0056 -0.0519  0.0129  0.0293  ...  0.0007  0.0187  0.0037  0.0520\n",
              "192608  0.0259  0.2703  0.0650  0.0055  ... -0.0075 -0.0013  0.0446  0.0676\n",
              "192609  0.0116  0.0402  0.0126  0.0658  ...  0.0025 -0.0056 -0.0123 -0.0386\n",
              "192610 -0.0306 -0.0331  0.0106 -0.0476  ... -0.0220 -0.0411 -0.0516 -0.0849\n",
              "192611  0.0635  0.0729  0.0455  0.0166  ...  0.0652  0.0433  0.0224  0.0400\n",
              "...        ...     ...     ...     ...  ...     ...     ...     ...     ...\n",
              "201808 -0.0038 -0.0186 -0.0543  0.0289  ...  0.0911  0.0364  0.0245  0.0299\n",
              "201809 -0.0032  0.0019  0.0537 -0.0009  ...  0.0061  0.0251 -0.0193  0.0116\n",
              "201810  0.0102 -0.0157  0.0790 -0.1596  ... -0.1021 -0.0171 -0.0545 -0.0599\n",
              "201811  0.0272  0.0579 -0.0843 -0.0065  ...  0.0159  0.0616  0.0289  0.0348\n",
              "201812 -0.0973 -0.0969 -0.1580 -0.0824  ... -0.0919 -0.0628 -0.1144 -0.0693\n",
              "\n",
              "[1110 rows x 30 columns]"
            ]
          },
          "metadata": {},
          "execution_count": 170
        }
      ],
      "source": [
        "ind = pd.read_csv(\"/gdrive/MyDrive/portfolio/ind30_m_vw_rets.csv\", header=0, index_col=0, parse_dates=True)/100\n",
        "ind"
      ]
    },
    {
      "cell_type": "code",
      "execution_count": 171,
      "id": "f1c80e7d",
      "metadata": {
        "colab": {
          "base_uri": "https://localhost:8080/",
          "height": 357
        },
        "id": "f1c80e7d",
        "outputId": "3898776c-6da1-41ae-9e95-89257afeabff"
      },
      "outputs": [
        {
          "output_type": "execute_result",
          "data": {
            "text/html": [
              "\n",
              "  <div id=\"df-064e9b18-233e-4b08-a087-e19549551ac0\">\n",
              "    <div class=\"colab-df-container\">\n",
              "      <div>\n",
              "<style scoped>\n",
              "    .dataframe tbody tr th:only-of-type {\n",
              "        vertical-align: middle;\n",
              "    }\n",
              "\n",
              "    .dataframe tbody tr th {\n",
              "        vertical-align: top;\n",
              "    }\n",
              "\n",
              "    .dataframe thead th {\n",
              "        text-align: right;\n",
              "    }\n",
              "</style>\n",
              "<table border=\"1\" class=\"dataframe\">\n",
              "  <thead>\n",
              "    <tr style=\"text-align: right;\">\n",
              "      <th></th>\n",
              "      <th>Food</th>\n",
              "      <th>Beer</th>\n",
              "      <th>Smoke</th>\n",
              "      <th>Games</th>\n",
              "      <th>Books</th>\n",
              "      <th>Hshld</th>\n",
              "      <th>Clths</th>\n",
              "      <th>Hlth</th>\n",
              "      <th>Chems</th>\n",
              "      <th>Txtls</th>\n",
              "      <th>Cnstr</th>\n",
              "      <th>Steel</th>\n",
              "      <th>FabPr</th>\n",
              "      <th>ElcEq</th>\n",
              "      <th>Autos</th>\n",
              "      <th>Carry</th>\n",
              "      <th>Mines</th>\n",
              "      <th>Coal</th>\n",
              "      <th>Oil</th>\n",
              "      <th>Util</th>\n",
              "      <th>Telcm</th>\n",
              "      <th>Servs</th>\n",
              "      <th>BusEq</th>\n",
              "      <th>Paper</th>\n",
              "      <th>Trans</th>\n",
              "      <th>Whlsl</th>\n",
              "      <th>Rtail</th>\n",
              "      <th>Meals</th>\n",
              "      <th>Fin</th>\n",
              "      <th>Other</th>\n",
              "    </tr>\n",
              "  </thead>\n",
              "  <tbody>\n",
              "    <tr>\n",
              "      <th>1926-07</th>\n",
              "      <td>0.0056</td>\n",
              "      <td>-0.0519</td>\n",
              "      <td>0.0129</td>\n",
              "      <td>0.0293</td>\n",
              "      <td>0.1097</td>\n",
              "      <td>-0.0048</td>\n",
              "      <td>0.0808</td>\n",
              "      <td>0.0177</td>\n",
              "      <td>0.0814</td>\n",
              "      <td>0.0039</td>\n",
              "      <td>0.0207</td>\n",
              "      <td>0.0407</td>\n",
              "      <td>0.0543</td>\n",
              "      <td>0.0318</td>\n",
              "      <td>0.1639</td>\n",
              "      <td>0.0102</td>\n",
              "      <td>0.0564</td>\n",
              "      <td>0.0154</td>\n",
              "      <td>-0.0140</td>\n",
              "      <td>0.0704</td>\n",
              "      <td>0.0083</td>\n",
              "      <td>0.0922</td>\n",
              "      <td>0.0206</td>\n",
              "      <td>0.0770</td>\n",
              "      <td>0.0193</td>\n",
              "      <td>-0.2379</td>\n",
              "      <td>0.0007</td>\n",
              "      <td>0.0187</td>\n",
              "      <td>0.0037</td>\n",
              "      <td>0.0520</td>\n",
              "    </tr>\n",
              "    <tr>\n",
              "      <th>1926-08</th>\n",
              "      <td>0.0259</td>\n",
              "      <td>0.2703</td>\n",
              "      <td>0.0650</td>\n",
              "      <td>0.0055</td>\n",
              "      <td>0.1001</td>\n",
              "      <td>-0.0358</td>\n",
              "      <td>-0.0251</td>\n",
              "      <td>0.0425</td>\n",
              "      <td>0.0550</td>\n",
              "      <td>0.0814</td>\n",
              "      <td>0.0472</td>\n",
              "      <td>0.0217</td>\n",
              "      <td>0.0206</td>\n",
              "      <td>0.0210</td>\n",
              "      <td>0.0423</td>\n",
              "      <td>0.0166</td>\n",
              "      <td>0.0055</td>\n",
              "      <td>0.0085</td>\n",
              "      <td>0.0369</td>\n",
              "      <td>-0.0169</td>\n",
              "      <td>0.0217</td>\n",
              "      <td>0.0202</td>\n",
              "      <td>0.0439</td>\n",
              "      <td>-0.0238</td>\n",
              "      <td>0.0488</td>\n",
              "      <td>0.0539</td>\n",
              "      <td>-0.0075</td>\n",
              "      <td>-0.0013</td>\n",
              "      <td>0.0446</td>\n",
              "      <td>0.0676</td>\n",
              "    </tr>\n",
              "    <tr>\n",
              "      <th>1926-09</th>\n",
              "      <td>0.0116</td>\n",
              "      <td>0.0402</td>\n",
              "      <td>0.0126</td>\n",
              "      <td>0.0658</td>\n",
              "      <td>-0.0099</td>\n",
              "      <td>0.0073</td>\n",
              "      <td>-0.0051</td>\n",
              "      <td>0.0069</td>\n",
              "      <td>0.0533</td>\n",
              "      <td>0.0231</td>\n",
              "      <td>-0.0050</td>\n",
              "      <td>0.0015</td>\n",
              "      <td>0.0036</td>\n",
              "      <td>-0.0056</td>\n",
              "      <td>0.0483</td>\n",
              "      <td>0.0273</td>\n",
              "      <td>0.0174</td>\n",
              "      <td>0.0030</td>\n",
              "      <td>-0.0369</td>\n",
              "      <td>0.0204</td>\n",
              "      <td>0.0241</td>\n",
              "      <td>0.0225</td>\n",
              "      <td>0.0019</td>\n",
              "      <td>-0.0554</td>\n",
              "      <td>0.0005</td>\n",
              "      <td>-0.0787</td>\n",
              "      <td>0.0025</td>\n",
              "      <td>-0.0056</td>\n",
              "      <td>-0.0123</td>\n",
              "      <td>-0.0386</td>\n",
              "    </tr>\n",
              "    <tr>\n",
              "      <th>1926-10</th>\n",
              "      <td>-0.0306</td>\n",
              "      <td>-0.0331</td>\n",
              "      <td>0.0106</td>\n",
              "      <td>-0.0476</td>\n",
              "      <td>0.0947</td>\n",
              "      <td>-0.0468</td>\n",
              "      <td>0.0012</td>\n",
              "      <td>-0.0057</td>\n",
              "      <td>-0.0476</td>\n",
              "      <td>0.0100</td>\n",
              "      <td>-0.0455</td>\n",
              "      <td>-0.0385</td>\n",
              "      <td>0.0111</td>\n",
              "      <td>-0.0573</td>\n",
              "      <td>-0.0793</td>\n",
              "      <td>-0.0556</td>\n",
              "      <td>-0.0320</td>\n",
              "      <td>0.0223</td>\n",
              "      <td>-0.0104</td>\n",
              "      <td>-0.0263</td>\n",
              "      <td>-0.0011</td>\n",
              "      <td>-0.0200</td>\n",
              "      <td>-0.0109</td>\n",
              "      <td>-0.0508</td>\n",
              "      <td>-0.0264</td>\n",
              "      <td>-0.1538</td>\n",
              "      <td>-0.0220</td>\n",
              "      <td>-0.0411</td>\n",
              "      <td>-0.0516</td>\n",
              "      <td>-0.0849</td>\n",
              "    </tr>\n",
              "    <tr>\n",
              "      <th>1926-11</th>\n",
              "      <td>0.0635</td>\n",
              "      <td>0.0729</td>\n",
              "      <td>0.0455</td>\n",
              "      <td>0.0166</td>\n",
              "      <td>-0.0580</td>\n",
              "      <td>-0.0054</td>\n",
              "      <td>0.0187</td>\n",
              "      <td>0.0542</td>\n",
              "      <td>0.0520</td>\n",
              "      <td>0.0311</td>\n",
              "      <td>0.0220</td>\n",
              "      <td>0.0386</td>\n",
              "      <td>0.0318</td>\n",
              "      <td>0.0508</td>\n",
              "      <td>-0.0066</td>\n",
              "      <td>0.0787</td>\n",
              "      <td>0.0846</td>\n",
              "      <td>-0.0048</td>\n",
              "      <td>0.0006</td>\n",
              "      <td>0.0371</td>\n",
              "      <td>0.0163</td>\n",
              "      <td>0.0377</td>\n",
              "      <td>0.0364</td>\n",
              "      <td>0.0384</td>\n",
              "      <td>0.0160</td>\n",
              "      <td>0.0467</td>\n",
              "      <td>0.0652</td>\n",
              "      <td>0.0433</td>\n",
              "      <td>0.0224</td>\n",
              "      <td>0.0400</td>\n",
              "    </tr>\n",
              "  </tbody>\n",
              "</table>\n",
              "</div>\n",
              "      <button class=\"colab-df-convert\" onclick=\"convertToInteractive('df-064e9b18-233e-4b08-a087-e19549551ac0')\"\n",
              "              title=\"Convert this dataframe to an interactive table.\"\n",
              "              style=\"display:none;\">\n",
              "        \n",
              "  <svg xmlns=\"http://www.w3.org/2000/svg\" height=\"24px\"viewBox=\"0 0 24 24\"\n",
              "       width=\"24px\">\n",
              "    <path d=\"M0 0h24v24H0V0z\" fill=\"none\"/>\n",
              "    <path d=\"M18.56 5.44l.94 2.06.94-2.06 2.06-.94-2.06-.94-.94-2.06-.94 2.06-2.06.94zm-11 1L8.5 8.5l.94-2.06 2.06-.94-2.06-.94L8.5 2.5l-.94 2.06-2.06.94zm10 10l.94 2.06.94-2.06 2.06-.94-2.06-.94-.94-2.06-.94 2.06-2.06.94z\"/><path d=\"M17.41 7.96l-1.37-1.37c-.4-.4-.92-.59-1.43-.59-.52 0-1.04.2-1.43.59L10.3 9.45l-7.72 7.72c-.78.78-.78 2.05 0 2.83L4 21.41c.39.39.9.59 1.41.59.51 0 1.02-.2 1.41-.59l7.78-7.78 2.81-2.81c.8-.78.8-2.07 0-2.86zM5.41 20L4 18.59l7.72-7.72 1.47 1.35L5.41 20z\"/>\n",
              "  </svg>\n",
              "      </button>\n",
              "      \n",
              "  <style>\n",
              "    .colab-df-container {\n",
              "      display:flex;\n",
              "      flex-wrap:wrap;\n",
              "      gap: 12px;\n",
              "    }\n",
              "\n",
              "    .colab-df-convert {\n",
              "      background-color: #E8F0FE;\n",
              "      border: none;\n",
              "      border-radius: 50%;\n",
              "      cursor: pointer;\n",
              "      display: none;\n",
              "      fill: #1967D2;\n",
              "      height: 32px;\n",
              "      padding: 0 0 0 0;\n",
              "      width: 32px;\n",
              "    }\n",
              "\n",
              "    .colab-df-convert:hover {\n",
              "      background-color: #E2EBFA;\n",
              "      box-shadow: 0px 1px 2px rgba(60, 64, 67, 0.3), 0px 1px 3px 1px rgba(60, 64, 67, 0.15);\n",
              "      fill: #174EA6;\n",
              "    }\n",
              "\n",
              "    [theme=dark] .colab-df-convert {\n",
              "      background-color: #3B4455;\n",
              "      fill: #D2E3FC;\n",
              "    }\n",
              "\n",
              "    [theme=dark] .colab-df-convert:hover {\n",
              "      background-color: #434B5C;\n",
              "      box-shadow: 0px 1px 3px 1px rgba(0, 0, 0, 0.15);\n",
              "      filter: drop-shadow(0px 1px 2px rgba(0, 0, 0, 0.3));\n",
              "      fill: #FFFFFF;\n",
              "    }\n",
              "  </style>\n",
              "\n",
              "      <script>\n",
              "        const buttonEl =\n",
              "          document.querySelector('#df-064e9b18-233e-4b08-a087-e19549551ac0 button.colab-df-convert');\n",
              "        buttonEl.style.display =\n",
              "          google.colab.kernel.accessAllowed ? 'block' : 'none';\n",
              "\n",
              "        async function convertToInteractive(key) {\n",
              "          const element = document.querySelector('#df-064e9b18-233e-4b08-a087-e19549551ac0');\n",
              "          const dataTable =\n",
              "            await google.colab.kernel.invokeFunction('convertToInteractive',\n",
              "                                                     [key], {});\n",
              "          if (!dataTable) return;\n",
              "\n",
              "          const docLinkHtml = 'Like what you see? Visit the ' +\n",
              "            '<a target=\"_blank\" href=https://colab.research.google.com/notebooks/data_table.ipynb>data table notebook</a>'\n",
              "            + ' to learn more about interactive tables.';\n",
              "          element.innerHTML = '';\n",
              "          dataTable['output_type'] = 'display_data';\n",
              "          await google.colab.output.renderOutput(dataTable, element);\n",
              "          const docLink = document.createElement('div');\n",
              "          docLink.innerHTML = docLinkHtml;\n",
              "          element.appendChild(docLink);\n",
              "        }\n",
              "      </script>\n",
              "    </div>\n",
              "  </div>\n",
              "  "
            ],
            "text/plain": [
              "          Food    Beer    Smoke   Games  ...   Rtail   Meals   Fin     Other\n",
              "1926-07  0.0056 -0.0519  0.0129  0.0293  ...  0.0007  0.0187  0.0037  0.0520\n",
              "1926-08  0.0259  0.2703  0.0650  0.0055  ... -0.0075 -0.0013  0.0446  0.0676\n",
              "1926-09  0.0116  0.0402  0.0126  0.0658  ...  0.0025 -0.0056 -0.0123 -0.0386\n",
              "1926-10 -0.0306 -0.0331  0.0106 -0.0476  ... -0.0220 -0.0411 -0.0516 -0.0849\n",
              "1926-11  0.0635  0.0729  0.0455  0.0166  ...  0.0652  0.0433  0.0224  0.0400\n",
              "\n",
              "[5 rows x 30 columns]"
            ]
          },
          "metadata": {},
          "execution_count": 171
        }
      ],
      "source": [
        "#Above the dates are treated as integers, hence we need to convert them into datetime format\n",
        "# and then convert them into monthly periods\n",
        "\n",
        "ind.index = pd.to_datetime(ind.index, format=\"%Y%m\").to_period('M')\n",
        "ind.head()"
      ]
    },
    {
      "cell_type": "code",
      "execution_count": 172,
      "id": "5d2c85d5",
      "metadata": {
        "colab": {
          "base_uri": "https://localhost:8080/"
        },
        "id": "5d2c85d5",
        "outputId": "45c7bdc2-2f0a-48e3-825d-48b2ed317273"
      },
      "outputs": [
        {
          "output_type": "execute_result",
          "data": {
            "text/plain": [
              "Index(['Food', 'Beer', 'Smoke', 'Games', 'Books', 'Hshld', 'Clths', 'Hlth',\n",
              "       'Chems', 'Txtls', 'Cnstr', 'Steel', 'FabPr', 'ElcEq', 'Autos', 'Carry',\n",
              "       'Mines', 'Coal', 'Oil', 'Util', 'Telcm', 'Servs', 'BusEq', 'Paper',\n",
              "       'Trans', 'Whlsl', 'Rtail', 'Meals', 'Fin', 'Other'],\n",
              "      dtype='object')"
            ]
          },
          "metadata": {},
          "execution_count": 172
        }
      ],
      "source": [
        "#The columns in initial dataset has embedded space like 'Food  ', so we need to remove them\n",
        "ind.columns = ind.columns.str.strip()\n",
        "ind.columns"
      ]
    },
    {
      "cell_type": "code",
      "execution_count": 173,
      "id": "337ff619",
      "metadata": {
        "colab": {
          "base_uri": "https://localhost:8080/",
          "height": 323
        },
        "id": "337ff619",
        "outputId": "30ba88b4-0e06-41cd-d776-af5f0bb3ddd1"
      },
      "outputs": [
        {
          "output_type": "execute_result",
          "data": {
            "text/plain": [
              "<matplotlib.axes._subplots.AxesSubplot at 0x7f289211a810>"
            ]
          },
          "metadata": {},
          "execution_count": 173
        },
        {
          "output_type": "display_data",
          "data": {
            "image/png": "[encoded data removed]",
            "text/plain": [
              "<Figure size 432x288 with 1 Axes>"
            ]
          },
          "metadata": {
            "needs_background": "light"
          }
        }
      ],
      "source": [
        "erk.sharpe_ratio(ind[\"2000\":], 0.03, 12).sort_values().plot.bar(title=\"Industry Sharpe Ratios 2000-2018\", color=\"green\")"
      ]
    },
    {
      "cell_type": "code",
      "execution_count": 174,
      "id": "7e32b609",
      "metadata": {
        "id": "7e32b609"
      },
      "outputs": [],
      "source": [
        "#Generate Efficient Frontier\n",
        "\n",
        "#Step 1: Annualized returns\n",
        "er = erk.annualize_rets(ind[\"1996\":\"2000\"], 12)\n",
        "\n",
        "#Step 2: Covariance matrix\n",
        "cov = ind[\"1996\":\"2000\"].cov()"
      ]
    },
    {
      "cell_type": "markdown",
      "id": "b2b06709",
      "metadata": {
        "id": "b2b06709"
      },
      "source": [
        "## Efficient Frontier"
      ]
    },
    {
      "cell_type": "code",
      "execution_count": 175,
      "id": "7879132f",
      "metadata": {
        "colab": {
          "base_uri": "https://localhost:8080/",
          "height": 175
        },
        "id": "7879132f",
        "outputId": "2d015214-3ce3-465d-bd75-15e8cdfee146"
      },
      "outputs": [
        {
          "output_type": "execute_result",
          "data": {
            "text/html": [
              "\n",
              "  <div id=\"df-342e3030-b5fe-4b6f-ad7c-f4cd8b8888fb\">\n",
              "    <div class=\"colab-df-container\">\n",
              "      <div>\n",
              "<style scoped>\n",
              "    .dataframe tbody tr th:only-of-type {\n",
              "        vertical-align: middle;\n",
              "    }\n",
              "\n",
              "    .dataframe tbody tr th {\n",
              "        vertical-align: top;\n",
              "    }\n",
              "\n",
              "    .dataframe thead th {\n",
              "        text-align: right;\n",
              "    }\n",
              "</style>\n",
              "<table border=\"1\" class=\"dataframe\">\n",
              "  <thead>\n",
              "    <tr style=\"text-align: right;\">\n",
              "      <th></th>\n",
              "      <th>Food</th>\n",
              "      <th>Beer</th>\n",
              "      <th>Smoke</th>\n",
              "      <th>Coal</th>\n",
              "    </tr>\n",
              "  </thead>\n",
              "  <tbody>\n",
              "    <tr>\n",
              "      <th>Food</th>\n",
              "      <td>0.002609</td>\n",
              "      <td>0.002379</td>\n",
              "      <td>0.002061</td>\n",
              "      <td>0.000027</td>\n",
              "    </tr>\n",
              "    <tr>\n",
              "      <th>Beer</th>\n",
              "      <td>0.002379</td>\n",
              "      <td>0.005264</td>\n",
              "      <td>0.001359</td>\n",
              "      <td>0.001728</td>\n",
              "    </tr>\n",
              "    <tr>\n",
              "      <th>Smoke</th>\n",
              "      <td>0.002061</td>\n",
              "      <td>0.001359</td>\n",
              "      <td>0.008349</td>\n",
              "      <td>-0.000733</td>\n",
              "    </tr>\n",
              "    <tr>\n",
              "      <th>Coal</th>\n",
              "      <td>0.000027</td>\n",
              "      <td>0.001728</td>\n",
              "      <td>-0.000733</td>\n",
              "      <td>0.018641</td>\n",
              "    </tr>\n",
              "  </tbody>\n",
              "</table>\n",
              "</div>\n",
              "      <button class=\"colab-df-convert\" onclick=\"convertToInteractive('df-342e3030-b5fe-4b6f-ad7c-f4cd8b8888fb')\"\n",
              "              title=\"Convert this dataframe to an interactive table.\"\n",
              "              style=\"display:none;\">\n",
              "        \n",
              "  <svg xmlns=\"http://www.w3.org/2000/svg\" height=\"24px\"viewBox=\"0 0 24 24\"\n",
              "       width=\"24px\">\n",
              "    <path d=\"M0 0h24v24H0V0z\" fill=\"none\"/>\n",
              "    <path d=\"M18.56 5.44l.94 2.06.94-2.06 2.06-.94-2.06-.94-.94-2.06-.94 2.06-2.06.94zm-11 1L8.5 8.5l.94-2.06 2.06-.94-2.06-.94L8.5 2.5l-.94 2.06-2.06.94zm10 10l.94 2.06.94-2.06 2.06-.94-2.06-.94-.94-2.06-.94 2.06-2.06.94z\"/><path d=\"M17.41 7.96l-1.37-1.37c-.4-.4-.92-.59-1.43-.59-.52 0-1.04.2-1.43.59L10.3 9.45l-7.72 7.72c-.78.78-.78 2.05 0 2.83L4 21.41c.39.39.9.59 1.41.59.51 0 1.02-.2 1.41-.59l7.78-7.78 2.81-2.81c.8-.78.8-2.07 0-2.86zM5.41 20L4 18.59l7.72-7.72 1.47 1.35L5.41 20z\"/>\n",
              "  </svg>\n",
              "      </button>\n",
              "      \n",
              "  <style>\n",
              "    .colab-df-container {\n",
              "      display:flex;\n",
              "      flex-wrap:wrap;\n",
              "      gap: 12px;\n",
              "    }\n",
              "\n",
              "    .colab-df-convert {\n",
              "      background-color: #E8F0FE;\n",
              "      border: none;\n",
              "      border-radius: 50%;\n",
              "      cursor: pointer;\n",
              "      display: none;\n",
              "      fill: #1967D2;\n",
              "      height: 32px;\n",
              "      padding: 0 0 0 0;\n",
              "      width: 32px;\n",
              "    }\n",
              "\n",
              "    .colab-df-convert:hover {\n",
              "      background-color: #E2EBFA;\n",
              "      box-shadow: 0px 1px 2px rgba(60, 64, 67, 0.3), 0px 1px 3px 1px rgba(60, 64, 67, 0.15);\n",
              "      fill: #174EA6;\n",
              "    }\n",
              "\n",
              "    [theme=dark] .colab-df-convert {\n",
              "      background-color: #3B4455;\n",
              "      fill: #D2E3FC;\n",
              "    }\n",
              "\n",
              "    [theme=dark] .colab-df-convert:hover {\n",
              "      background-color: #434B5C;\n",
              "      box-shadow: 0px 1px 3px 1px rgba(0, 0, 0, 0.15);\n",
              "      filter: drop-shadow(0px 1px 2px rgba(0, 0, 0, 0.3));\n",
              "      fill: #FFFFFF;\n",
              "    }\n",
              "  </style>\n",
              "\n",
              "      <script>\n",
              "        const buttonEl =\n",
              "          document.querySelector('#df-342e3030-b5fe-4b6f-ad7c-f4cd8b8888fb button.colab-df-convert');\n",
              "        buttonEl.style.display =\n",
              "          google.colab.kernel.accessAllowed ? 'block' : 'none';\n",
              "\n",
              "        async function convertToInteractive(key) {\n",
              "          const element = document.querySelector('#df-342e3030-b5fe-4b6f-ad7c-f4cd8b8888fb');\n",
              "          const dataTable =\n",
              "            await google.colab.kernel.invokeFunction('convertToInteractive',\n",
              "                                                     [key], {});\n",
              "          if (!dataTable) return;\n",
              "\n",
              "          const docLinkHtml = 'Like what you see? Visit the ' +\n",
              "            '<a target=\"_blank\" href=https://colab.research.google.com/notebooks/data_table.ipynb>data table notebook</a>'\n",
              "            + ' to learn more about interactive tables.';\n",
              "          element.innerHTML = '';\n",
              "          dataTable['output_type'] = 'display_data';\n",
              "          await google.colab.output.renderOutput(dataTable, element);\n",
              "          const docLink = document.createElement('div');\n",
              "          docLink.innerHTML = docLinkHtml;\n",
              "          element.appendChild(docLink);\n",
              "        }\n",
              "      </script>\n",
              "    </div>\n",
              "  </div>\n",
              "  "
            ],
            "text/plain": [
              "           Food      Beer     Smoke      Coal\n",
              "Food   0.002609  0.002379  0.002061  0.000027\n",
              "Beer   0.002379  0.005264  0.001359  0.001728\n",
              "Smoke  0.002061  0.001359  0.008349 -0.000733\n",
              "Coal   0.000027  0.001728 -0.000733  0.018641"
            ]
          },
          "metadata": {},
          "execution_count": 175
        }
      ],
      "source": [
        "assets = ['Food', 'Beer', 'Smoke','Coal']\n",
        "\n",
        "#Annualized returns for above assets\n",
        "er[assets] \n",
        "\n",
        "#Corresponding Covariance Matrix\n",
        "cov.loc[assets, assets]"
      ]
    },
    {
      "cell_type": "code",
      "execution_count": 176,
      "id": "6c1ea765",
      "metadata": {
        "colab": {
          "base_uri": "https://localhost:8080/"
        },
        "id": "6c1ea765",
        "outputId": "7f627aa9-d41b-4fa1-f983-8f559a38e1a1"
      },
      "outputs": [
        {
          "output_type": "execute_result",
          "data": {
            "text/plain": [
              "array([0.25, 0.25, 0.25, 0.25])"
            ]
          },
          "metadata": {},
          "execution_count": 176
        }
      ],
      "source": [
        "#Assign 0.25 initial weight to each asset\n",
        "\n",
        "weights = np.repeat(1/4, 4)\n",
        "weights"
      ]
    },
    {
      "cell_type": "code",
      "execution_count": 177,
      "id": "d4b8670d",
      "metadata": {
        "colab": {
          "base_uri": "https://localhost:8080/"
        },
        "id": "d4b8670d",
        "outputId": "d763843f-46a3-44b1-a08e-e0838148e21b"
      },
      "outputs": [
        {
          "output_type": "execute_result",
          "data": {
            "text/plain": [
              "0.19511097196038385"
            ]
          },
          "metadata": {},
          "execution_count": 177
        }
      ],
      "source": [
        "#Returns Portfolio returns using the weighted average\n",
        "erk.portfolio_return(weights, er[assets])"
      ]
    },
    {
      "cell_type": "code",
      "execution_count": 178,
      "id": "1f67edd7",
      "metadata": {
        "colab": {
          "base_uri": "https://localhost:8080/"
        },
        "id": "1f67edd7",
        "outputId": "c896269c-60c4-450b-9bc7-18f2ea7873b7"
      },
      "outputs": [
        {
          "output_type": "execute_result",
          "data": {
            "text/plain": [
              "0.055059195776437045"
            ]
          },
          "metadata": {},
          "execution_count": 178
        }
      ],
      "source": [
        "#Returns Portfolio Volatility\n",
        "erk.portfolio_vol(weights, cov.loc[assets, assets])"
      ]
    },
    {
      "cell_type": "markdown",
      "id": "b42ef04a",
      "metadata": {
        "id": "b42ef04a"
      },
      "source": [
        "### 2 Asset Frontier"
      ]
    },
    {
      "cell_type": "code",
      "execution_count": 179,
      "id": "004d1762",
      "metadata": {
        "id": "004d1762"
      },
      "outputs": [],
      "source": [
        "assets = ['Games', 'Fin']"
      ]
    },
    {
      "cell_type": "code",
      "execution_count": 180,
      "id": "351fd8b3",
      "metadata": {
        "colab": {
          "base_uri": "https://localhost:8080/"
        },
        "id": "351fd8b3",
        "outputId": "21070f1a-aa04-4f62-f25a-2970b7802ac5"
      },
      "outputs": [
        {
          "output_type": "execute_result",
          "data": {
            "text/plain": [
              "[array([0., 1.]),\n",
              " array([0.05263158, 0.94736842]),\n",
              " array([0.10526316, 0.89473684]),\n",
              " array([0.15789474, 0.84210526]),\n",
              " array([0.21052632, 0.78947368]),\n",
              " array([0.26315789, 0.73684211]),\n",
              " array([0.31578947, 0.68421053]),\n",
              " array([0.36842105, 0.63157895]),\n",
              " array([0.42105263, 0.57894737]),\n",
              " array([0.47368421, 0.52631579]),\n",
              " array([0.52631579, 0.47368421]),\n",
              " array([0.57894737, 0.42105263]),\n",
              " array([0.63157895, 0.36842105]),\n",
              " array([0.68421053, 0.31578947]),\n",
              " array([0.73684211, 0.26315789]),\n",
              " array([0.78947368, 0.21052632]),\n",
              " array([0.84210526, 0.15789474]),\n",
              " array([0.89473684, 0.10526316]),\n",
              " array([0.94736842, 0.05263158]),\n",
              " array([1., 0.])]"
            ]
          },
          "metadata": {},
          "execution_count": 180
        }
      ],
      "source": [
        "\"\"\"\n",
        "1) Generate vector of weights: one will be 100% in Games and other will be 100% in Fin and others will be in between.\n",
        "\n",
        "2) List Comprehension: Each element will look like: np.array([w, 1-w])\n",
        "\n",
        "The numpy.linspace() function returns number spaces evenly w.r.t interval. \n",
        "Similar to numpy.arrange() function but instead of step it uses sample number. \n",
        "\"\"\"\n",
        "\n",
        "n_points = 20\n",
        "\n",
        "weights = [np.array([w, 1-w]) for w in np.linspace(0,1, n_points)]\n",
        "weights"
      ]
    },
    {
      "cell_type": "code",
      "execution_count": 181,
      "id": "19dbdce9",
      "metadata": {
        "id": "19dbdce9"
      },
      "outputs": [],
      "source": [
        "#Compute Returns and Volatility w.r.t weights generated\n",
        "\"\"\"\n",
        "PORTFOLIO RETURN = Weight_Transpose @ Returns\n",
        "\n",
        "(The symbol @ in Python is used for decorators and matrix multiplication \n",
        "and .T is used for Transpose)\n",
        "\n",
        "Weight is k x 1 vector of weights\n",
        "Returns is k x 1 vector of asset returns\n",
        "\n",
        "\n",
        "PORTFOLIO VOLATILITY = (weights.T @ covariance_matrix @ weights)**0.5\n",
        "\n",
        "\"\"\"\n",
        "\n",
        "rets = [erk.portfolio_return(w, er[assets]) for w in weights]\n",
        "vol = [erk.portfolio_vol(w, cov.loc[assets, assets]) for w in weights]\n",
        "\n",
        "ef = pd.DataFrame({\n",
        "    \"Returns\": rets,\n",
        "    \"Volatility\": vol\n",
        "})"
      ]
    },
    {
      "cell_type": "code",
      "execution_count": 182,
      "id": "baa256d2",
      "metadata": {
        "colab": {
          "base_uri": "https://localhost:8080/",
          "height": 296
        },
        "id": "baa256d2",
        "outputId": "cfa03cb4-6dd7-4b1b-f1d7-a6f080e370ef"
      },
      "outputs": [
        {
          "output_type": "execute_result",
          "data": {
            "text/plain": [
              "<matplotlib.axes._subplots.AxesSubplot at 0x7f2893425a10>"
            ]
          },
          "metadata": {},
          "execution_count": 182
        },
        {
          "output_type": "display_data",
          "data": {
            "image/png": "[encoded data removed]",
            "text/plain": [
              "<Figure size 432x288 with 1 Axes>"
            ]
          },
          "metadata": {
            "needs_background": "light"
          }
        }
      ],
      "source": [
        "ef.plot.line(x=\"Volatility\", y=\"Returns\", style=\".-\")"
      ]
    },
    {
      "cell_type": "code",
      "execution_count": 183,
      "id": "f8cafb7e",
      "metadata": {
        "colab": {
          "base_uri": "https://localhost:8080/",
          "height": 296
        },
        "id": "f8cafb7e",
        "outputId": "63a75b8c-dbdb-4ce3-e7d2-08fc71cfea2f"
      },
      "outputs": [
        {
          "output_type": "execute_result",
          "data": {
            "text/plain": [
              "<matplotlib.axes._subplots.AxesSubplot at 0x7f28920c4e10>"
            ]
          },
          "metadata": {},
          "execution_count": 183
        },
        {
          "output_type": "display_data",
          "data": {
            "image/png": "[encoded data removed]",
            "text/plain": [
              "<Figure size 432x288 with 1 Axes>"
            ]
          },
          "metadata": {
            "needs_background": "light"
          }
        }
      ],
      "source": [
        "#Using Module\n",
        "assets = ['Fin', 'Beer']\n",
        "erk.plot_ef2(25, er[assets], cov.loc[assets, assets], style=\"--\")"
      ]
    },
    {
      "cell_type": "markdown",
      "id": "a5480083",
      "metadata": {
        "id": "a5480083"
      },
      "source": [
        "### N-Asset Efficient Frontier"
      ]
    },
    {
      "cell_type": "code",
      "execution_count": 184,
      "id": "fc2340a8",
      "metadata": {
        "colab": {
          "base_uri": "https://localhost:8080/",
          "height": 296
        },
        "id": "fc2340a8",
        "outputId": "cf92a327-d4f5-42c6-e4c2-de732d072e4f"
      },
      "outputs": [
        {
          "output_type": "execute_result",
          "data": {
            "text/plain": [
              "<matplotlib.axes._subplots.AxesSubplot at 0x7f289438da90>"
            ]
          },
          "metadata": {},
          "execution_count": 184
        },
        {
          "output_type": "display_data",
          "data": {
            "image/png": "[encoded data removed]",
            "text/plain": [
              "<Figure size 432x288 with 1 Axes>"
            ]
          },
          "metadata": {
            "needs_background": "light"
          }
        }
      ],
      "source": [
        "#Calculation of Weights\n",
        "# Step 1: Find the weights of a portfolio having minimum volatility for given target return\n",
        "\n",
        "assets = ['Fin', 'Games']\n",
        "erk.plot_ef2(25, er[assets], cov.loc[assets, assets], style=\"--\")"
      ]
    },
    {
      "cell_type": "code",
      "execution_count": 185,
      "id": "40ba9d0c",
      "metadata": {
        "colab": {
          "base_uri": "https://localhost:8080/"
        },
        "id": "40ba9d0c",
        "outputId": "4cd03508-a3ab-4827-bde1-4fd0a0e5def1"
      },
      "outputs": [
        {
          "output_type": "execute_result",
          "data": {
            "text/plain": [
              "array([0.52712369, 0.47287631])"
            ]
          },
          "metadata": {},
          "execution_count": 185
        }
      ],
      "source": [
        "#Generate weights for portfolio having minimum volatility for return of 15%\n",
        "\n",
        "weight_15 = erk.minimize_vol(0.15, er[assets], cov.loc[assets,assets])\n",
        "weight_15"
      ]
    },
    {
      "cell_type": "code",
      "execution_count": 186,
      "id": "8ee17b56",
      "metadata": {
        "colab": {
          "base_uri": "https://localhost:8080/"
        },
        "id": "8ee17b56",
        "outputId": "8446b7cb-4af9-44fc-cac8-1237b89b5f20"
      },
      "outputs": [
        {
          "output_type": "execute_result",
          "data": {
            "text/plain": [
              "0.056163669406706564"
            ]
          },
          "metadata": {},
          "execution_count": 186
        }
      ],
      "source": [
        "#Corresponding Volatility\n",
        "\n",
        "volatility_15 = erk.portfolio_vol(weight_15, cov.loc[assets,assets])\n",
        "volatility_15"
      ]
    },
    {
      "cell_type": "code",
      "execution_count": 187,
      "id": "57f3d330",
      "metadata": {
        "colab": {
          "base_uri": "https://localhost:8080/",
          "height": 296
        },
        "id": "57f3d330",
        "outputId": "5bc5486e-d45f-4456-b4fd-998596b783ee"
      },
      "outputs": [
        {
          "output_type": "execute_result",
          "data": {
            "text/plain": [
              "<matplotlib.axes._subplots.AxesSubplot at 0x7f2892778e10>"
            ]
          },
          "metadata": {},
          "execution_count": 187
        },
        {
          "output_type": "display_data",
          "data": {
            "image/png": "[encoded data removed]",
            "text/plain": [
              "<Figure size 432x288 with 1 Axes>"
            ]
          },
          "metadata": {
            "needs_background": "light"
          }
        }
      ],
      "source": [
        "# 4 Asset Portfolio\n",
        "assets = ['Smoke', 'Fin', 'Games', 'Coal']\n",
        "\n",
        "erk.plot_ef(25, er[assets], cov.loc[assets, assets])"
      ]
    },
    {
      "cell_type": "markdown",
      "id": "c4d260ea",
      "metadata": {
        "id": "c4d260ea"
      },
      "source": [
        "## Capital Market Line\n",
        "\n",
        "Shows the change in shape of efficient frontier when risk-free assets is introduced. When we only have risky assets, we get the upper side of efficient frontier which gives highest possible return for a given level of volatility. All investors should hold a combination of the risk-free asset and the portfolio that maximizes the Reward-per-Risk ratio. So the capital market line has the highest slope on efficient frontier and has Maximum Sharpe Ratio(MSR).\n",
        "\n",
        "Slope of Capital Market Line = Maximum Sharpe Ratio\n",
        "\n",
        "Maximum Sharpe Ratio only has systematic risk i.e. the risk that cannot be diversified. It doesn't have any specific risk(Risk that can be diversified away)."
      ]
    },
    {
      "cell_type": "code",
      "execution_count": 188,
      "id": "fc52518d",
      "metadata": {
        "colab": {
          "base_uri": "https://localhost:8080/",
          "height": 296
        },
        "id": "fc52518d",
        "outputId": "e8230892-6df7-4d47-8014-755dbe2806d8"
      },
      "outputs": [
        {
          "output_type": "execute_result",
          "data": {
            "text/plain": [
              "<matplotlib.axes._subplots.AxesSubplot at 0x7f2889f3e9d0>"
            ]
          },
          "metadata": {},
          "execution_count": 188
        },
        {
          "output_type": "display_data",
          "data": {
            "image/png": "[encoded data removed]",
            "text/plain": [
              "<Figure size 432x288 with 1 Axes>"
            ]
          },
          "metadata": {
            "needs_background": "light"
          }
        }
      ],
      "source": [
        "erk.plot_ef(20,er, cov, show_cml=True, riskfree_rate = 0.1)"
      ]
    },
    {
      "cell_type": "code",
      "source": [
        ""
      ],
      "metadata": {
        "id": "ANXtZ7JpYlRD"
      },
      "id": "ANXtZ7JpYlRD",
      "execution_count": 188,
      "outputs": []
    }
  ],
  "metadata": {
    "kernelspec": {
      "display_name": "Python 3",
      "language": "python",
      "name": "python3"
    },
    "language_info": {
      "codemirror_mode": {
        "name": "ipython",
        "version": 3
      },
      "file_extension": ".py",
      "mimetype": "text/x-python",
      "name": "python",
      "nbconvert_exporter": "python",
      "pygments_lexer": "ipython3",
      "version": "3.8.8"
    },
    "colab": {
      "name": "Portfolio Construction.ipynb",
      "provenance": []
    }
  },
  "nbformat": 4,
  "nbformat_minor": 5
}